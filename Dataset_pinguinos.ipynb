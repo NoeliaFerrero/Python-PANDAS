{
  "nbformat": 4,
  "nbformat_minor": 0,
  "metadata": {
    "colab": {
      "provenance": [],
      "include_colab_link": true
    },
    "kernelspec": {
      "display_name": "Python 3",
      "name": "python3"
    },
    "language_info": {
      "name": "python"
    },
    "accelerator": "GPU"
  },
  "cells": [
    {
      "cell_type": "markdown",
      "metadata": {
        "id": "view-in-github",
        "colab_type": "text"
      },
      "source": [
        "<a href=\"https://colab.research.google.com/github/NoeliaFerrero/Python-PANDAS/blob/main/Dataset_pinguinos.ipynb\" target=\"_parent\"><img src=\"https://colab.research.google.com/assets/colab-badge.svg\" alt=\"Open In Colab\"/></a>"
      ]
    },
    {
      "cell_type": "markdown",
      "metadata": {
        "id": "7M5M5fcBoUOz"
      },
      "source": [
        "# Redes Neuronales "
      ]
    },
    {
      "cell_type": "code",
      "metadata": {
        "colab": {
          "base_uri": "https://localhost:8080/"
        },
        "id": "5nlCmhNXmvdx",
        "outputId": "fa78821b-f0ce-459a-b355-72384c2f76b1"
      },
      "source": [
        "from google.colab import drive\n",
        "drive.mount('/content/drive')"
      ],
      "execution_count": null,
      "outputs": [
        {
          "output_type": "stream",
          "name": "stdout",
          "text": [
            "Mounted at /content/drive\n"
          ]
        }
      ]
    },
    {
      "cell_type": "markdown",
      "metadata": {
        "id": "TaHu_uNYooPv"
      },
      "source": [
        "Importar libreria: pandas\n",
        "\n",
        "Pandas tiene funciones útiles para usar con set de datos."
      ]
    },
    {
      "cell_type": "code",
      "metadata": {
        "id": "Yb0JqETOUvPw"
      },
      "source": [
        "import pandas as pd"
      ],
      "execution_count": null,
      "outputs": []
    },
    {
      "cell_type": "markdown",
      "metadata": {
        "id": "m_TIsQwljvrw"
      },
      "source": [
        "## 1. Obtener los datos"
      ]
    },
    {
      "cell_type": "markdown",
      "metadata": {
        "id": "SoMmmyxPmWF2"
      },
      "source": [
        "https://www.kaggle.com/ashkhagan/palmer-penguins-datasetalternative-iris-dataset\n",
        "\n",
        "*DEFINICION DE COLUMNAS*\n",
        "\n",
        "\n",
        "ETIQUETA\n",
        "*   species: especie del pingüino: Adelie, Chinstrap. Gentoo\n",
        "\n",
        "ATRIBUTOS\n",
        "*   Eisland: Isla en donde están los pingüinos: Biscoe, Dream or Torgersen\n",
        "*   bill_length_mm:  largo del pico en milimetros \n",
        "*   bill_depth_mm: ancho del pico en milimetros\n",
        "*   flipper_length_mm: largo de la aleta en milimetros\n",
        "*   body_mass_g: masa corporal en gramos\n",
        "*   sex: indica si el sexo del pingüino: female, male\n",
        "\n",
        "\n",
        "\n"
      ]
    },
    {
      "cell_type": "code",
      "metadata": {
        "id": "-kmN63Rcd7Xt"
      },
      "source": [
        "datos=pd.read_csv('/content/penguins.csv') "
      ],
      "execution_count": null,
      "outputs": []
    },
    {
      "cell_type": "markdown",
      "metadata": {
        "id": "BBxrR1xSYu3F"
      },
      "source": [
        "## 2. Inspeccionar los datos"
      ]
    },
    {
      "cell_type": "code",
      "metadata": {
        "id": "880sobzcCNrt",
        "colab": {
          "base_uri": "https://localhost:8080/",
          "height": 419
        },
        "outputId": "fd8e4b6c-200e-4ed1-f18a-9ea3fee02707"
      },
      "source": [
        "datos"
      ],
      "execution_count": null,
      "outputs": [
        {
          "output_type": "execute_result",
          "data": {
            "text/html": [
              "<div>\n",
              "<style scoped>\n",
              "    .dataframe tbody tr th:only-of-type {\n",
              "        vertical-align: middle;\n",
              "    }\n",
              "\n",
              "    .dataframe tbody tr th {\n",
              "        vertical-align: top;\n",
              "    }\n",
              "\n",
              "    .dataframe thead th {\n",
              "        text-align: right;\n",
              "    }\n",
              "</style>\n",
              "<table border=\"1\" class=\"dataframe\">\n",
              "  <thead>\n",
              "    <tr style=\"text-align: right;\">\n",
              "      <th></th>\n",
              "      <th>species</th>\n",
              "      <th>island</th>\n",
              "      <th>bill_length_mm</th>\n",
              "      <th>bill_depth_mm</th>\n",
              "      <th>flipper_length_mm</th>\n",
              "      <th>body_mass_g</th>\n",
              "      <th>sex</th>\n",
              "    </tr>\n",
              "  </thead>\n",
              "  <tbody>\n",
              "    <tr>\n",
              "      <th>0</th>\n",
              "      <td>Adelie</td>\n",
              "      <td>Torgersen</td>\n",
              "      <td>39.1</td>\n",
              "      <td>18.7</td>\n",
              "      <td>181.0</td>\n",
              "      <td>3750.0</td>\n",
              "      <td>male</td>\n",
              "    </tr>\n",
              "    <tr>\n",
              "      <th>1</th>\n",
              "      <td>Adelie</td>\n",
              "      <td>Torgersen</td>\n",
              "      <td>39.5</td>\n",
              "      <td>17.4</td>\n",
              "      <td>186.0</td>\n",
              "      <td>3800.0</td>\n",
              "      <td>female</td>\n",
              "    </tr>\n",
              "    <tr>\n",
              "      <th>2</th>\n",
              "      <td>Adelie</td>\n",
              "      <td>Torgersen</td>\n",
              "      <td>40.3</td>\n",
              "      <td>18.0</td>\n",
              "      <td>195.0</td>\n",
              "      <td>3250.0</td>\n",
              "      <td>female</td>\n",
              "    </tr>\n",
              "    <tr>\n",
              "      <th>3</th>\n",
              "      <td>Adelie</td>\n",
              "      <td>Torgersen</td>\n",
              "      <td>NaN</td>\n",
              "      <td>NaN</td>\n",
              "      <td>NaN</td>\n",
              "      <td>NaN</td>\n",
              "      <td>NaN</td>\n",
              "    </tr>\n",
              "    <tr>\n",
              "      <th>4</th>\n",
              "      <td>Adelie</td>\n",
              "      <td>Torgersen</td>\n",
              "      <td>36.7</td>\n",
              "      <td>19.3</td>\n",
              "      <td>193.0</td>\n",
              "      <td>3450.0</td>\n",
              "      <td>female</td>\n",
              "    </tr>\n",
              "    <tr>\n",
              "      <th>...</th>\n",
              "      <td>...</td>\n",
              "      <td>...</td>\n",
              "      <td>...</td>\n",
              "      <td>...</td>\n",
              "      <td>...</td>\n",
              "      <td>...</td>\n",
              "      <td>...</td>\n",
              "    </tr>\n",
              "    <tr>\n",
              "      <th>339</th>\n",
              "      <td>Chinstrap</td>\n",
              "      <td>Dream</td>\n",
              "      <td>55.8</td>\n",
              "      <td>19.8</td>\n",
              "      <td>207.0</td>\n",
              "      <td>4000.0</td>\n",
              "      <td>male</td>\n",
              "    </tr>\n",
              "    <tr>\n",
              "      <th>340</th>\n",
              "      <td>Chinstrap</td>\n",
              "      <td>Dream</td>\n",
              "      <td>43.5</td>\n",
              "      <td>18.1</td>\n",
              "      <td>202.0</td>\n",
              "      <td>3400.0</td>\n",
              "      <td>female</td>\n",
              "    </tr>\n",
              "    <tr>\n",
              "      <th>341</th>\n",
              "      <td>Chinstrap</td>\n",
              "      <td>Dream</td>\n",
              "      <td>49.6</td>\n",
              "      <td>18.2</td>\n",
              "      <td>193.0</td>\n",
              "      <td>3775.0</td>\n",
              "      <td>male</td>\n",
              "    </tr>\n",
              "    <tr>\n",
              "      <th>342</th>\n",
              "      <td>Chinstrap</td>\n",
              "      <td>Dream</td>\n",
              "      <td>50.8</td>\n",
              "      <td>19.0</td>\n",
              "      <td>210.0</td>\n",
              "      <td>4100.0</td>\n",
              "      <td>male</td>\n",
              "    </tr>\n",
              "    <tr>\n",
              "      <th>343</th>\n",
              "      <td>Chinstrap</td>\n",
              "      <td>Dream</td>\n",
              "      <td>50.2</td>\n",
              "      <td>18.7</td>\n",
              "      <td>198.0</td>\n",
              "      <td>3775.0</td>\n",
              "      <td>female</td>\n",
              "    </tr>\n",
              "  </tbody>\n",
              "</table>\n",
              "<p>344 rows × 7 columns</p>\n",
              "</div>"
            ],
            "text/plain": [
              "       species     island  ...  body_mass_g     sex\n",
              "0       Adelie  Torgersen  ...       3750.0    male\n",
              "1       Adelie  Torgersen  ...       3800.0  female\n",
              "2       Adelie  Torgersen  ...       3250.0  female\n",
              "3       Adelie  Torgersen  ...          NaN     NaN\n",
              "4       Adelie  Torgersen  ...       3450.0  female\n",
              "..         ...        ...  ...          ...     ...\n",
              "339  Chinstrap      Dream  ...       4000.0    male\n",
              "340  Chinstrap      Dream  ...       3400.0  female\n",
              "341  Chinstrap      Dream  ...       3775.0    male\n",
              "342  Chinstrap      Dream  ...       4100.0    male\n",
              "343  Chinstrap      Dream  ...       3775.0  female\n",
              "\n",
              "[344 rows x 7 columns]"
            ]
          },
          "metadata": {},
          "execution_count": 4
        }
      ]
    },
    {
      "cell_type": "markdown",
      "metadata": {
        "id": "n0Ov6_mPQ-XS"
      },
      "source": [
        "Ver las primeras columnas"
      ]
    },
    {
      "cell_type": "code",
      "metadata": {
        "id": "uz0gjpTiU8xc",
        "colab": {
          "base_uri": "https://localhost:8080/",
          "height": 359
        },
        "outputId": "1537a984-e97a-4f20-f425-19ce2e69bd64"
      },
      "source": [
        "datos.head(10)"
      ],
      "execution_count": null,
      "outputs": [
        {
          "output_type": "execute_result",
          "data": {
            "text/html": [
              "<div>\n",
              "<style scoped>\n",
              "    .dataframe tbody tr th:only-of-type {\n",
              "        vertical-align: middle;\n",
              "    }\n",
              "\n",
              "    .dataframe tbody tr th {\n",
              "        vertical-align: top;\n",
              "    }\n",
              "\n",
              "    .dataframe thead th {\n",
              "        text-align: right;\n",
              "    }\n",
              "</style>\n",
              "<table border=\"1\" class=\"dataframe\">\n",
              "  <thead>\n",
              "    <tr style=\"text-align: right;\">\n",
              "      <th></th>\n",
              "      <th>species</th>\n",
              "      <th>island</th>\n",
              "      <th>bill_length_mm</th>\n",
              "      <th>bill_depth_mm</th>\n",
              "      <th>flipper_length_mm</th>\n",
              "      <th>body_mass_g</th>\n",
              "      <th>sex</th>\n",
              "    </tr>\n",
              "  </thead>\n",
              "  <tbody>\n",
              "    <tr>\n",
              "      <th>0</th>\n",
              "      <td>Adelie</td>\n",
              "      <td>Torgersen</td>\n",
              "      <td>39.1</td>\n",
              "      <td>18.7</td>\n",
              "      <td>181.0</td>\n",
              "      <td>3750.0</td>\n",
              "      <td>male</td>\n",
              "    </tr>\n",
              "    <tr>\n",
              "      <th>1</th>\n",
              "      <td>Adelie</td>\n",
              "      <td>Torgersen</td>\n",
              "      <td>39.5</td>\n",
              "      <td>17.4</td>\n",
              "      <td>186.0</td>\n",
              "      <td>3800.0</td>\n",
              "      <td>female</td>\n",
              "    </tr>\n",
              "    <tr>\n",
              "      <th>2</th>\n",
              "      <td>Adelie</td>\n",
              "      <td>Torgersen</td>\n",
              "      <td>40.3</td>\n",
              "      <td>18.0</td>\n",
              "      <td>195.0</td>\n",
              "      <td>3250.0</td>\n",
              "      <td>female</td>\n",
              "    </tr>\n",
              "    <tr>\n",
              "      <th>3</th>\n",
              "      <td>Adelie</td>\n",
              "      <td>Torgersen</td>\n",
              "      <td>NaN</td>\n",
              "      <td>NaN</td>\n",
              "      <td>NaN</td>\n",
              "      <td>NaN</td>\n",
              "      <td>NaN</td>\n",
              "    </tr>\n",
              "    <tr>\n",
              "      <th>4</th>\n",
              "      <td>Adelie</td>\n",
              "      <td>Torgersen</td>\n",
              "      <td>36.7</td>\n",
              "      <td>19.3</td>\n",
              "      <td>193.0</td>\n",
              "      <td>3450.0</td>\n",
              "      <td>female</td>\n",
              "    </tr>\n",
              "    <tr>\n",
              "      <th>5</th>\n",
              "      <td>Adelie</td>\n",
              "      <td>Torgersen</td>\n",
              "      <td>39.3</td>\n",
              "      <td>20.6</td>\n",
              "      <td>190.0</td>\n",
              "      <td>3650.0</td>\n",
              "      <td>male</td>\n",
              "    </tr>\n",
              "    <tr>\n",
              "      <th>6</th>\n",
              "      <td>Adelie</td>\n",
              "      <td>Torgersen</td>\n",
              "      <td>38.9</td>\n",
              "      <td>17.8</td>\n",
              "      <td>181.0</td>\n",
              "      <td>3625.0</td>\n",
              "      <td>female</td>\n",
              "    </tr>\n",
              "    <tr>\n",
              "      <th>7</th>\n",
              "      <td>Adelie</td>\n",
              "      <td>Torgersen</td>\n",
              "      <td>39.2</td>\n",
              "      <td>19.6</td>\n",
              "      <td>195.0</td>\n",
              "      <td>4675.0</td>\n",
              "      <td>male</td>\n",
              "    </tr>\n",
              "    <tr>\n",
              "      <th>8</th>\n",
              "      <td>Adelie</td>\n",
              "      <td>Torgersen</td>\n",
              "      <td>34.1</td>\n",
              "      <td>18.1</td>\n",
              "      <td>193.0</td>\n",
              "      <td>3475.0</td>\n",
              "      <td>NaN</td>\n",
              "    </tr>\n",
              "    <tr>\n",
              "      <th>9</th>\n",
              "      <td>Adelie</td>\n",
              "      <td>Torgersen</td>\n",
              "      <td>42.0</td>\n",
              "      <td>20.2</td>\n",
              "      <td>190.0</td>\n",
              "      <td>4250.0</td>\n",
              "      <td>NaN</td>\n",
              "    </tr>\n",
              "  </tbody>\n",
              "</table>\n",
              "</div>"
            ],
            "text/plain": [
              "  species     island  bill_length_mm  ...  flipper_length_mm  body_mass_g     sex\n",
              "0  Adelie  Torgersen            39.1  ...              181.0       3750.0    male\n",
              "1  Adelie  Torgersen            39.5  ...              186.0       3800.0  female\n",
              "2  Adelie  Torgersen            40.3  ...              195.0       3250.0  female\n",
              "3  Adelie  Torgersen             NaN  ...                NaN          NaN     NaN\n",
              "4  Adelie  Torgersen            36.7  ...              193.0       3450.0  female\n",
              "5  Adelie  Torgersen            39.3  ...              190.0       3650.0    male\n",
              "6  Adelie  Torgersen            38.9  ...              181.0       3625.0  female\n",
              "7  Adelie  Torgersen            39.2  ...              195.0       4675.0    male\n",
              "8  Adelie  Torgersen            34.1  ...              193.0       3475.0     NaN\n",
              "9  Adelie  Torgersen            42.0  ...              190.0       4250.0     NaN\n",
              "\n",
              "[10 rows x 7 columns]"
            ]
          },
          "metadata": {},
          "execution_count": 5
        }
      ]
    },
    {
      "cell_type": "markdown",
      "metadata": {
        "id": "2BE20p01RBoI"
      },
      "source": [
        "Ver cantidad de filas y columnas del dataset"
      ]
    },
    {
      "cell_type": "code",
      "metadata": {
        "id": "F3XRByhlY3Wu",
        "colab": {
          "base_uri": "https://localhost:8080/"
        },
        "outputId": "a921f692-e6bb-49c3-8fd3-938e199e9c8a"
      },
      "source": [
        "datos.shape"
      ],
      "execution_count": null,
      "outputs": [
        {
          "output_type": "execute_result",
          "data": {
            "text/plain": [
              "(344, 7)"
            ]
          },
          "metadata": {
            "tags": []
          },
          "execution_count": 5
        }
      ]
    },
    {
      "cell_type": "markdown",
      "metadata": {
        "id": "xbYyYmgEyYTL"
      },
      "source": [
        "Listar los nombres de cada columna"
      ]
    },
    {
      "cell_type": "code",
      "metadata": {
        "id": "ivuFhx2IXwUH",
        "colab": {
          "base_uri": "https://localhost:8080/"
        },
        "outputId": "9ef6da85-3025-4e62-e7eb-c8cfe5c7a016"
      },
      "source": [
        "datos.columns"
      ],
      "execution_count": null,
      "outputs": [
        {
          "output_type": "execute_result",
          "data": {
            "text/plain": [
              "Index(['species', 'island', 'bill_length_mm', 'bill_depth_mm',\n",
              "       'flipper_length_mm', 'body_mass_g', 'sex'],\n",
              "      dtype='object')"
            ]
          },
          "metadata": {},
          "execution_count": 6
        }
      ]
    },
    {
      "cell_type": "markdown",
      "metadata": {
        "id": "9QzzZByVmNK5"
      },
      "source": [
        "Cambiar nombre de columnas para que sea más fácil de interpretar"
      ]
    },
    {
      "cell_type": "code",
      "metadata": {
        "id": "OExOUFMrmSnJ"
      },
      "source": [
        "datos.rename(columns={'species':'especie',\n",
        "                      'island': 'isla',\n",
        "                      'bill_length_mm':'largo_pico',\n",
        "                      'bill_depth_mm':'ancho_pico',\n",
        "                      'flipper_length_mm': 'largo_aleta',\n",
        "                      'body_mass_g':'masa_corporal',\n",
        "                      'sex':'sexo'},\n",
        "             inplace=True)"
      ],
      "execution_count": null,
      "outputs": []
    },
    {
      "cell_type": "code",
      "metadata": {
        "id": "_GQw4ri9nhp5",
        "colab": {
          "base_uri": "https://localhost:8080/",
          "height": 204
        },
        "outputId": "ec02d27a-fddd-4d33-c30e-7a8ffa601f06"
      },
      "source": [
        "datos.head()"
      ],
      "execution_count": null,
      "outputs": [
        {
          "output_type": "execute_result",
          "data": {
            "text/html": [
              "<div>\n",
              "<style scoped>\n",
              "    .dataframe tbody tr th:only-of-type {\n",
              "        vertical-align: middle;\n",
              "    }\n",
              "\n",
              "    .dataframe tbody tr th {\n",
              "        vertical-align: top;\n",
              "    }\n",
              "\n",
              "    .dataframe thead th {\n",
              "        text-align: right;\n",
              "    }\n",
              "</style>\n",
              "<table border=\"1\" class=\"dataframe\">\n",
              "  <thead>\n",
              "    <tr style=\"text-align: right;\">\n",
              "      <th></th>\n",
              "      <th>especie</th>\n",
              "      <th>isla</th>\n",
              "      <th>largo_pico</th>\n",
              "      <th>ancho_pico</th>\n",
              "      <th>largo_aleta</th>\n",
              "      <th>masa_corporal</th>\n",
              "      <th>sexo</th>\n",
              "    </tr>\n",
              "  </thead>\n",
              "  <tbody>\n",
              "    <tr>\n",
              "      <th>0</th>\n",
              "      <td>Adelie</td>\n",
              "      <td>Torgersen</td>\n",
              "      <td>39.1</td>\n",
              "      <td>18.7</td>\n",
              "      <td>181.0</td>\n",
              "      <td>3750.0</td>\n",
              "      <td>male</td>\n",
              "    </tr>\n",
              "    <tr>\n",
              "      <th>1</th>\n",
              "      <td>Adelie</td>\n",
              "      <td>Torgersen</td>\n",
              "      <td>39.5</td>\n",
              "      <td>17.4</td>\n",
              "      <td>186.0</td>\n",
              "      <td>3800.0</td>\n",
              "      <td>female</td>\n",
              "    </tr>\n",
              "    <tr>\n",
              "      <th>2</th>\n",
              "      <td>Adelie</td>\n",
              "      <td>Torgersen</td>\n",
              "      <td>40.3</td>\n",
              "      <td>18.0</td>\n",
              "      <td>195.0</td>\n",
              "      <td>3250.0</td>\n",
              "      <td>female</td>\n",
              "    </tr>\n",
              "    <tr>\n",
              "      <th>3</th>\n",
              "      <td>Adelie</td>\n",
              "      <td>Torgersen</td>\n",
              "      <td>NaN</td>\n",
              "      <td>NaN</td>\n",
              "      <td>NaN</td>\n",
              "      <td>NaN</td>\n",
              "      <td>NaN</td>\n",
              "    </tr>\n",
              "    <tr>\n",
              "      <th>4</th>\n",
              "      <td>Adelie</td>\n",
              "      <td>Torgersen</td>\n",
              "      <td>36.7</td>\n",
              "      <td>19.3</td>\n",
              "      <td>193.0</td>\n",
              "      <td>3450.0</td>\n",
              "      <td>female</td>\n",
              "    </tr>\n",
              "  </tbody>\n",
              "</table>\n",
              "</div>"
            ],
            "text/plain": [
              "  especie       isla  largo_pico  ...  largo_aleta  masa_corporal    sexo\n",
              "0  Adelie  Torgersen        39.1  ...        181.0         3750.0    male\n",
              "1  Adelie  Torgersen        39.5  ...        186.0         3800.0  female\n",
              "2  Adelie  Torgersen        40.3  ...        195.0         3250.0  female\n",
              "3  Adelie  Torgersen         NaN  ...          NaN            NaN     NaN\n",
              "4  Adelie  Torgersen        36.7  ...        193.0         3450.0  female\n",
              "\n",
              "[5 rows x 7 columns]"
            ]
          },
          "metadata": {},
          "execution_count": 8
        }
      ]
    },
    {
      "cell_type": "markdown",
      "metadata": {
        "id": "AZWQY9qWSv50"
      },
      "source": [
        "Ver las tipologias de las columnas"
      ]
    },
    {
      "cell_type": "code",
      "metadata": {
        "id": "L5Fv0ggIiLfq",
        "colab": {
          "base_uri": "https://localhost:8080/"
        },
        "outputId": "8c1d5a23-ab90-47da-dcdb-d29fb40d28ce"
      },
      "source": [
        "datos.dtypes"
      ],
      "execution_count": null,
      "outputs": [
        {
          "output_type": "execute_result",
          "data": {
            "text/plain": [
              "especie           object\n",
              "isla              object\n",
              "largo_pico       float64\n",
              "ancho_pico       float64\n",
              "largo_aleta      float64\n",
              "masa_corporal    float64\n",
              "sexo              object\n",
              "dtype: object"
            ]
          },
          "metadata": {},
          "execution_count": 9
        }
      ]
    },
    {
      "cell_type": "markdown",
      "metadata": {
        "id": "jfSds3UgRI27"
      },
      "source": [
        "seleccionar algunas columnas"
      ]
    },
    {
      "cell_type": "code",
      "metadata": {
        "id": "wgE6Xn6DY3Pp",
        "colab": {
          "base_uri": "https://localhost:8080/",
          "height": 419
        },
        "outputId": "250a1ad4-5fff-4050-80ee-841906e31521"
      },
      "source": [
        "datos[['isla', 'sexo']]"
      ],
      "execution_count": null,
      "outputs": [
        {
          "output_type": "execute_result",
          "data": {
            "text/html": [
              "<div>\n",
              "<style scoped>\n",
              "    .dataframe tbody tr th:only-of-type {\n",
              "        vertical-align: middle;\n",
              "    }\n",
              "\n",
              "    .dataframe tbody tr th {\n",
              "        vertical-align: top;\n",
              "    }\n",
              "\n",
              "    .dataframe thead th {\n",
              "        text-align: right;\n",
              "    }\n",
              "</style>\n",
              "<table border=\"1\" class=\"dataframe\">\n",
              "  <thead>\n",
              "    <tr style=\"text-align: right;\">\n",
              "      <th></th>\n",
              "      <th>isla</th>\n",
              "      <th>sexo</th>\n",
              "    </tr>\n",
              "  </thead>\n",
              "  <tbody>\n",
              "    <tr>\n",
              "      <th>0</th>\n",
              "      <td>Torgersen</td>\n",
              "      <td>male</td>\n",
              "    </tr>\n",
              "    <tr>\n",
              "      <th>1</th>\n",
              "      <td>Torgersen</td>\n",
              "      <td>female</td>\n",
              "    </tr>\n",
              "    <tr>\n",
              "      <th>2</th>\n",
              "      <td>Torgersen</td>\n",
              "      <td>female</td>\n",
              "    </tr>\n",
              "    <tr>\n",
              "      <th>3</th>\n",
              "      <td>Torgersen</td>\n",
              "      <td>NaN</td>\n",
              "    </tr>\n",
              "    <tr>\n",
              "      <th>4</th>\n",
              "      <td>Torgersen</td>\n",
              "      <td>female</td>\n",
              "    </tr>\n",
              "    <tr>\n",
              "      <th>...</th>\n",
              "      <td>...</td>\n",
              "      <td>...</td>\n",
              "    </tr>\n",
              "    <tr>\n",
              "      <th>339</th>\n",
              "      <td>Dream</td>\n",
              "      <td>male</td>\n",
              "    </tr>\n",
              "    <tr>\n",
              "      <th>340</th>\n",
              "      <td>Dream</td>\n",
              "      <td>female</td>\n",
              "    </tr>\n",
              "    <tr>\n",
              "      <th>341</th>\n",
              "      <td>Dream</td>\n",
              "      <td>male</td>\n",
              "    </tr>\n",
              "    <tr>\n",
              "      <th>342</th>\n",
              "      <td>Dream</td>\n",
              "      <td>male</td>\n",
              "    </tr>\n",
              "    <tr>\n",
              "      <th>343</th>\n",
              "      <td>Dream</td>\n",
              "      <td>female</td>\n",
              "    </tr>\n",
              "  </tbody>\n",
              "</table>\n",
              "<p>344 rows × 2 columns</p>\n",
              "</div>"
            ],
            "text/plain": [
              "          isla    sexo\n",
              "0    Torgersen    male\n",
              "1    Torgersen  female\n",
              "2    Torgersen  female\n",
              "3    Torgersen     NaN\n",
              "4    Torgersen  female\n",
              "..         ...     ...\n",
              "339      Dream    male\n",
              "340      Dream  female\n",
              "341      Dream    male\n",
              "342      Dream    male\n",
              "343      Dream  female\n",
              "\n",
              "[344 rows x 2 columns]"
            ]
          },
          "metadata": {},
          "execution_count": 10
        }
      ]
    },
    {
      "cell_type": "code",
      "metadata": {
        "id": "o0XNJRzBAP2o",
        "colab": {
          "base_uri": "https://localhost:8080/",
          "height": 204
        },
        "outputId": "b681a054-c350-41fb-ef88-b48fc76fda4b"
      },
      "source": [
        "datos[['isla', 'sexo']].head()"
      ],
      "execution_count": null,
      "outputs": [
        {
          "output_type": "execute_result",
          "data": {
            "text/html": [
              "<div>\n",
              "<style scoped>\n",
              "    .dataframe tbody tr th:only-of-type {\n",
              "        vertical-align: middle;\n",
              "    }\n",
              "\n",
              "    .dataframe tbody tr th {\n",
              "        vertical-align: top;\n",
              "    }\n",
              "\n",
              "    .dataframe thead th {\n",
              "        text-align: right;\n",
              "    }\n",
              "</style>\n",
              "<table border=\"1\" class=\"dataframe\">\n",
              "  <thead>\n",
              "    <tr style=\"text-align: right;\">\n",
              "      <th></th>\n",
              "      <th>isla</th>\n",
              "      <th>sexo</th>\n",
              "    </tr>\n",
              "  </thead>\n",
              "  <tbody>\n",
              "    <tr>\n",
              "      <th>0</th>\n",
              "      <td>Torgersen</td>\n",
              "      <td>male</td>\n",
              "    </tr>\n",
              "    <tr>\n",
              "      <th>1</th>\n",
              "      <td>Torgersen</td>\n",
              "      <td>female</td>\n",
              "    </tr>\n",
              "    <tr>\n",
              "      <th>2</th>\n",
              "      <td>Torgersen</td>\n",
              "      <td>female</td>\n",
              "    </tr>\n",
              "    <tr>\n",
              "      <th>3</th>\n",
              "      <td>Torgersen</td>\n",
              "      <td>NaN</td>\n",
              "    </tr>\n",
              "    <tr>\n",
              "      <th>4</th>\n",
              "      <td>Torgersen</td>\n",
              "      <td>female</td>\n",
              "    </tr>\n",
              "  </tbody>\n",
              "</table>\n",
              "</div>"
            ],
            "text/plain": [
              "        isla    sexo\n",
              "0  Torgersen    male\n",
              "1  Torgersen  female\n",
              "2  Torgersen  female\n",
              "3  Torgersen     NaN\n",
              "4  Torgersen  female"
            ]
          },
          "metadata": {},
          "execution_count": 11
        }
      ]
    },
    {
      "cell_type": "code",
      "metadata": {
        "colab": {
          "base_uri": "https://localhost:8080/",
          "height": 235
        },
        "id": "tCwV5C4IDzIR",
        "outputId": "4340875b-deae-4f9a-8538-7f4549ebc63a"
      },
      "source": [
        "datos.iloc[0:6,3:5]"
      ],
      "execution_count": null,
      "outputs": [
        {
          "output_type": "execute_result",
          "data": {
            "text/html": [
              "<div>\n",
              "<style scoped>\n",
              "    .dataframe tbody tr th:only-of-type {\n",
              "        vertical-align: middle;\n",
              "    }\n",
              "\n",
              "    .dataframe tbody tr th {\n",
              "        vertical-align: top;\n",
              "    }\n",
              "\n",
              "    .dataframe thead th {\n",
              "        text-align: right;\n",
              "    }\n",
              "</style>\n",
              "<table border=\"1\" class=\"dataframe\">\n",
              "  <thead>\n",
              "    <tr style=\"text-align: right;\">\n",
              "      <th></th>\n",
              "      <th>ancho_pico</th>\n",
              "      <th>largo_aleta</th>\n",
              "    </tr>\n",
              "  </thead>\n",
              "  <tbody>\n",
              "    <tr>\n",
              "      <th>0</th>\n",
              "      <td>18.7</td>\n",
              "      <td>181.0</td>\n",
              "    </tr>\n",
              "    <tr>\n",
              "      <th>1</th>\n",
              "      <td>17.4</td>\n",
              "      <td>186.0</td>\n",
              "    </tr>\n",
              "    <tr>\n",
              "      <th>2</th>\n",
              "      <td>18.0</td>\n",
              "      <td>195.0</td>\n",
              "    </tr>\n",
              "    <tr>\n",
              "      <th>3</th>\n",
              "      <td>NaN</td>\n",
              "      <td>NaN</td>\n",
              "    </tr>\n",
              "    <tr>\n",
              "      <th>4</th>\n",
              "      <td>19.3</td>\n",
              "      <td>193.0</td>\n",
              "    </tr>\n",
              "    <tr>\n",
              "      <th>5</th>\n",
              "      <td>20.6</td>\n",
              "      <td>190.0</td>\n",
              "    </tr>\n",
              "  </tbody>\n",
              "</table>\n",
              "</div>"
            ],
            "text/plain": [
              "   ancho_pico  largo_aleta\n",
              "0        18.7        181.0\n",
              "1        17.4        186.0\n",
              "2        18.0        195.0\n",
              "3         NaN          NaN\n",
              "4        19.3        193.0\n",
              "5        20.6        190.0"
            ]
          },
          "metadata": {},
          "execution_count": 12
        }
      ]
    },
    {
      "cell_type": "markdown",
      "metadata": {
        "id": "VPL19Eu1TiuI"
      },
      "source": [
        "Ver valores unicos en las columnas"
      ]
    },
    {
      "cell_type": "code",
      "metadata": {
        "id": "wKB6DCU5NJ1F",
        "colab": {
          "base_uri": "https://localhost:8080/"
        },
        "outputId": "eb095c80-4581-4cd7-a3b5-47dcb14ec4f5"
      },
      "source": [
        "datos['isla'].unique()"
      ],
      "execution_count": null,
      "outputs": [
        {
          "output_type": "execute_result",
          "data": {
            "text/plain": [
              "array(['Torgersen', 'Biscoe', 'Dream'], dtype=object)"
            ]
          },
          "metadata": {},
          "execution_count": 13
        }
      ]
    },
    {
      "cell_type": "code",
      "metadata": {
        "id": "4hcgynNSATer",
        "colab": {
          "base_uri": "https://localhost:8080/"
        },
        "outputId": "849d3a1e-591d-4b5c-8d08-4d094d498fcb"
      },
      "source": [
        "datos['isla'].nunique()"
      ],
      "execution_count": null,
      "outputs": [
        {
          "output_type": "execute_result",
          "data": {
            "text/plain": [
              "3"
            ]
          },
          "metadata": {},
          "execution_count": 14
        }
      ]
    },
    {
      "cell_type": "markdown",
      "metadata": {
        "id": "nTlOnxI2TJrw"
      },
      "source": [
        "Ver si hay valores nulos"
      ]
    },
    {
      "cell_type": "code",
      "metadata": {
        "id": "gjkNyI9GczY6",
        "colab": {
          "base_uri": "https://localhost:8080/"
        },
        "outputId": "0550c3b6-c5cc-4420-cfac-826cb8f65b13"
      },
      "source": [
        "datos.isnull().sum()"
      ],
      "execution_count": null,
      "outputs": [
        {
          "output_type": "execute_result",
          "data": {
            "text/plain": [
              "especie           0\n",
              "isla              0\n",
              "largo_pico        2\n",
              "ancho_pico        2\n",
              "largo_aleta       2\n",
              "masa_corporal     2\n",
              "sexo             11\n",
              "dtype: int64"
            ]
          },
          "metadata": {},
          "execution_count": 15
        }
      ]
    },
    {
      "cell_type": "markdown",
      "metadata": {
        "id": "iFn57up5S4tn"
      },
      "source": [
        "Contar los diferentes valores de las columnas"
      ]
    },
    {
      "cell_type": "code",
      "metadata": {
        "id": "heSH0QzAu1Sc",
        "colab": {
          "base_uri": "https://localhost:8080/"
        },
        "outputId": "6741b7e8-de83-4206-e67a-f23d1255988d"
      },
      "source": [
        "datos[['especie']].value_counts()"
      ],
      "execution_count": null,
      "outputs": [
        {
          "output_type": "execute_result",
          "data": {
            "text/plain": [
              "especie  \n",
              "Adelie       152\n",
              "Gentoo       124\n",
              "Chinstrap     68\n",
              "dtype: int64"
            ]
          },
          "metadata": {},
          "execution_count": 16
        }
      ]
    },
    {
      "cell_type": "code",
      "metadata": {
        "id": "6jEk3sFnvDLQ",
        "colab": {
          "base_uri": "https://localhost:8080/"
        },
        "outputId": "f657a930-6a87-4fc5-fbc3-b71e48b26384"
      },
      "source": [
        "datos[['sexo']].value_counts()"
      ],
      "execution_count": null,
      "outputs": [
        {
          "output_type": "execute_result",
          "data": {
            "text/plain": [
              "sexo  \n",
              "male      168\n",
              "female    165\n",
              "dtype: int64"
            ]
          },
          "metadata": {},
          "execution_count": 17
        }
      ]
    },
    {
      "cell_type": "markdown",
      "metadata": {
        "id": "NjIPeEQbsWx6"
      },
      "source": [
        "Filtros"
      ]
    },
    {
      "cell_type": "markdown",
      "metadata": {
        "id": "gDGlf9sKxns8"
      },
      "source": [
        "Seleccionar los pingüino de la especie Adelie"
      ]
    },
    {
      "cell_type": "code",
      "metadata": {
        "id": "p7Qf1M36sYTK",
        "colab": {
          "base_uri": "https://localhost:8080/",
          "height": 419
        },
        "outputId": "922a54e1-db1f-43be-da21-f34d0f546229"
      },
      "source": [
        "datos[datos.especie=='Adelie']"
      ],
      "execution_count": null,
      "outputs": [
        {
          "output_type": "execute_result",
          "data": {
            "text/html": [
              "<div>\n",
              "<style scoped>\n",
              "    .dataframe tbody tr th:only-of-type {\n",
              "        vertical-align: middle;\n",
              "    }\n",
              "\n",
              "    .dataframe tbody tr th {\n",
              "        vertical-align: top;\n",
              "    }\n",
              "\n",
              "    .dataframe thead th {\n",
              "        text-align: right;\n",
              "    }\n",
              "</style>\n",
              "<table border=\"1\" class=\"dataframe\">\n",
              "  <thead>\n",
              "    <tr style=\"text-align: right;\">\n",
              "      <th></th>\n",
              "      <th>especie</th>\n",
              "      <th>isla</th>\n",
              "      <th>largo_pico</th>\n",
              "      <th>ancho_pico</th>\n",
              "      <th>largo_aleta</th>\n",
              "      <th>masa_corporal</th>\n",
              "      <th>sexo</th>\n",
              "    </tr>\n",
              "  </thead>\n",
              "  <tbody>\n",
              "    <tr>\n",
              "      <th>0</th>\n",
              "      <td>Adelie</td>\n",
              "      <td>Torgersen</td>\n",
              "      <td>39.1</td>\n",
              "      <td>18.7</td>\n",
              "      <td>181.0</td>\n",
              "      <td>3750.0</td>\n",
              "      <td>male</td>\n",
              "    </tr>\n",
              "    <tr>\n",
              "      <th>1</th>\n",
              "      <td>Adelie</td>\n",
              "      <td>Torgersen</td>\n",
              "      <td>39.5</td>\n",
              "      <td>17.4</td>\n",
              "      <td>186.0</td>\n",
              "      <td>3800.0</td>\n",
              "      <td>female</td>\n",
              "    </tr>\n",
              "    <tr>\n",
              "      <th>2</th>\n",
              "      <td>Adelie</td>\n",
              "      <td>Torgersen</td>\n",
              "      <td>40.3</td>\n",
              "      <td>18.0</td>\n",
              "      <td>195.0</td>\n",
              "      <td>3250.0</td>\n",
              "      <td>female</td>\n",
              "    </tr>\n",
              "    <tr>\n",
              "      <th>3</th>\n",
              "      <td>Adelie</td>\n",
              "      <td>Torgersen</td>\n",
              "      <td>NaN</td>\n",
              "      <td>NaN</td>\n",
              "      <td>NaN</td>\n",
              "      <td>NaN</td>\n",
              "      <td>NaN</td>\n",
              "    </tr>\n",
              "    <tr>\n",
              "      <th>4</th>\n",
              "      <td>Adelie</td>\n",
              "      <td>Torgersen</td>\n",
              "      <td>36.7</td>\n",
              "      <td>19.3</td>\n",
              "      <td>193.0</td>\n",
              "      <td>3450.0</td>\n",
              "      <td>female</td>\n",
              "    </tr>\n",
              "    <tr>\n",
              "      <th>...</th>\n",
              "      <td>...</td>\n",
              "      <td>...</td>\n",
              "      <td>...</td>\n",
              "      <td>...</td>\n",
              "      <td>...</td>\n",
              "      <td>...</td>\n",
              "      <td>...</td>\n",
              "    </tr>\n",
              "    <tr>\n",
              "      <th>147</th>\n",
              "      <td>Adelie</td>\n",
              "      <td>Dream</td>\n",
              "      <td>36.6</td>\n",
              "      <td>18.4</td>\n",
              "      <td>184.0</td>\n",
              "      <td>3475.0</td>\n",
              "      <td>female</td>\n",
              "    </tr>\n",
              "    <tr>\n",
              "      <th>148</th>\n",
              "      <td>Adelie</td>\n",
              "      <td>Dream</td>\n",
              "      <td>36.0</td>\n",
              "      <td>17.8</td>\n",
              "      <td>195.0</td>\n",
              "      <td>3450.0</td>\n",
              "      <td>female</td>\n",
              "    </tr>\n",
              "    <tr>\n",
              "      <th>149</th>\n",
              "      <td>Adelie</td>\n",
              "      <td>Dream</td>\n",
              "      <td>37.8</td>\n",
              "      <td>18.1</td>\n",
              "      <td>193.0</td>\n",
              "      <td>3750.0</td>\n",
              "      <td>male</td>\n",
              "    </tr>\n",
              "    <tr>\n",
              "      <th>150</th>\n",
              "      <td>Adelie</td>\n",
              "      <td>Dream</td>\n",
              "      <td>36.0</td>\n",
              "      <td>17.1</td>\n",
              "      <td>187.0</td>\n",
              "      <td>3700.0</td>\n",
              "      <td>female</td>\n",
              "    </tr>\n",
              "    <tr>\n",
              "      <th>151</th>\n",
              "      <td>Adelie</td>\n",
              "      <td>Dream</td>\n",
              "      <td>41.5</td>\n",
              "      <td>18.5</td>\n",
              "      <td>201.0</td>\n",
              "      <td>4000.0</td>\n",
              "      <td>male</td>\n",
              "    </tr>\n",
              "  </tbody>\n",
              "</table>\n",
              "<p>152 rows × 7 columns</p>\n",
              "</div>"
            ],
            "text/plain": [
              "    especie       isla  largo_pico  ...  largo_aleta  masa_corporal    sexo\n",
              "0    Adelie  Torgersen        39.1  ...        181.0         3750.0    male\n",
              "1    Adelie  Torgersen        39.5  ...        186.0         3800.0  female\n",
              "2    Adelie  Torgersen        40.3  ...        195.0         3250.0  female\n",
              "3    Adelie  Torgersen         NaN  ...          NaN            NaN     NaN\n",
              "4    Adelie  Torgersen        36.7  ...        193.0         3450.0  female\n",
              "..      ...        ...         ...  ...          ...            ...     ...\n",
              "147  Adelie      Dream        36.6  ...        184.0         3475.0  female\n",
              "148  Adelie      Dream        36.0  ...        195.0         3450.0  female\n",
              "149  Adelie      Dream        37.8  ...        193.0         3750.0    male\n",
              "150  Adelie      Dream        36.0  ...        187.0         3700.0  female\n",
              "151  Adelie      Dream        41.5  ...        201.0         4000.0    male\n",
              "\n",
              "[152 rows x 7 columns]"
            ]
          },
          "metadata": {},
          "execution_count": 18
        }
      ]
    },
    {
      "cell_type": "markdown",
      "metadata": {
        "id": "yADBksQyxsi3"
      },
      "source": [
        "Seleccionar los pingüinos femeninos"
      ]
    },
    {
      "cell_type": "code",
      "metadata": {
        "id": "8VlqGdgEsknu",
        "colab": {
          "base_uri": "https://localhost:8080/",
          "height": 419
        },
        "outputId": "709c43d6-a5ee-4f4f-c4db-b16f667b9d37"
      },
      "source": [
        "datos[datos.sexo=='female']"
      ],
      "execution_count": null,
      "outputs": [
        {
          "output_type": "execute_result",
          "data": {
            "text/html": [
              "<div>\n",
              "<style scoped>\n",
              "    .dataframe tbody tr th:only-of-type {\n",
              "        vertical-align: middle;\n",
              "    }\n",
              "\n",
              "    .dataframe tbody tr th {\n",
              "        vertical-align: top;\n",
              "    }\n",
              "\n",
              "    .dataframe thead th {\n",
              "        text-align: right;\n",
              "    }\n",
              "</style>\n",
              "<table border=\"1\" class=\"dataframe\">\n",
              "  <thead>\n",
              "    <tr style=\"text-align: right;\">\n",
              "      <th></th>\n",
              "      <th>especie</th>\n",
              "      <th>isla</th>\n",
              "      <th>largo_pico</th>\n",
              "      <th>ancho_pico</th>\n",
              "      <th>largo_aleta</th>\n",
              "      <th>masa_corporal</th>\n",
              "      <th>sexo</th>\n",
              "    </tr>\n",
              "  </thead>\n",
              "  <tbody>\n",
              "    <tr>\n",
              "      <th>1</th>\n",
              "      <td>Adelie</td>\n",
              "      <td>Torgersen</td>\n",
              "      <td>39.5</td>\n",
              "      <td>17.4</td>\n",
              "      <td>186.0</td>\n",
              "      <td>3800.0</td>\n",
              "      <td>female</td>\n",
              "    </tr>\n",
              "    <tr>\n",
              "      <th>2</th>\n",
              "      <td>Adelie</td>\n",
              "      <td>Torgersen</td>\n",
              "      <td>40.3</td>\n",
              "      <td>18.0</td>\n",
              "      <td>195.0</td>\n",
              "      <td>3250.0</td>\n",
              "      <td>female</td>\n",
              "    </tr>\n",
              "    <tr>\n",
              "      <th>4</th>\n",
              "      <td>Adelie</td>\n",
              "      <td>Torgersen</td>\n",
              "      <td>36.7</td>\n",
              "      <td>19.3</td>\n",
              "      <td>193.0</td>\n",
              "      <td>3450.0</td>\n",
              "      <td>female</td>\n",
              "    </tr>\n",
              "    <tr>\n",
              "      <th>6</th>\n",
              "      <td>Adelie</td>\n",
              "      <td>Torgersen</td>\n",
              "      <td>38.9</td>\n",
              "      <td>17.8</td>\n",
              "      <td>181.0</td>\n",
              "      <td>3625.0</td>\n",
              "      <td>female</td>\n",
              "    </tr>\n",
              "    <tr>\n",
              "      <th>12</th>\n",
              "      <td>Adelie</td>\n",
              "      <td>Torgersen</td>\n",
              "      <td>41.1</td>\n",
              "      <td>17.6</td>\n",
              "      <td>182.0</td>\n",
              "      <td>3200.0</td>\n",
              "      <td>female</td>\n",
              "    </tr>\n",
              "    <tr>\n",
              "      <th>...</th>\n",
              "      <td>...</td>\n",
              "      <td>...</td>\n",
              "      <td>...</td>\n",
              "      <td>...</td>\n",
              "      <td>...</td>\n",
              "      <td>...</td>\n",
              "      <td>...</td>\n",
              "    </tr>\n",
              "    <tr>\n",
              "      <th>335</th>\n",
              "      <td>Chinstrap</td>\n",
              "      <td>Dream</td>\n",
              "      <td>45.6</td>\n",
              "      <td>19.4</td>\n",
              "      <td>194.0</td>\n",
              "      <td>3525.0</td>\n",
              "      <td>female</td>\n",
              "    </tr>\n",
              "    <tr>\n",
              "      <th>337</th>\n",
              "      <td>Chinstrap</td>\n",
              "      <td>Dream</td>\n",
              "      <td>46.8</td>\n",
              "      <td>16.5</td>\n",
              "      <td>189.0</td>\n",
              "      <td>3650.0</td>\n",
              "      <td>female</td>\n",
              "    </tr>\n",
              "    <tr>\n",
              "      <th>338</th>\n",
              "      <td>Chinstrap</td>\n",
              "      <td>Dream</td>\n",
              "      <td>45.7</td>\n",
              "      <td>17.0</td>\n",
              "      <td>195.0</td>\n",
              "      <td>3650.0</td>\n",
              "      <td>female</td>\n",
              "    </tr>\n",
              "    <tr>\n",
              "      <th>340</th>\n",
              "      <td>Chinstrap</td>\n",
              "      <td>Dream</td>\n",
              "      <td>43.5</td>\n",
              "      <td>18.1</td>\n",
              "      <td>202.0</td>\n",
              "      <td>3400.0</td>\n",
              "      <td>female</td>\n",
              "    </tr>\n",
              "    <tr>\n",
              "      <th>343</th>\n",
              "      <td>Chinstrap</td>\n",
              "      <td>Dream</td>\n",
              "      <td>50.2</td>\n",
              "      <td>18.7</td>\n",
              "      <td>198.0</td>\n",
              "      <td>3775.0</td>\n",
              "      <td>female</td>\n",
              "    </tr>\n",
              "  </tbody>\n",
              "</table>\n",
              "<p>165 rows × 7 columns</p>\n",
              "</div>"
            ],
            "text/plain": [
              "       especie       isla  largo_pico  ...  largo_aleta  masa_corporal    sexo\n",
              "1       Adelie  Torgersen        39.5  ...        186.0         3800.0  female\n",
              "2       Adelie  Torgersen        40.3  ...        195.0         3250.0  female\n",
              "4       Adelie  Torgersen        36.7  ...        193.0         3450.0  female\n",
              "6       Adelie  Torgersen        38.9  ...        181.0         3625.0  female\n",
              "12      Adelie  Torgersen        41.1  ...        182.0         3200.0  female\n",
              "..         ...        ...         ...  ...          ...            ...     ...\n",
              "335  Chinstrap      Dream        45.6  ...        194.0         3525.0  female\n",
              "337  Chinstrap      Dream        46.8  ...        189.0         3650.0  female\n",
              "338  Chinstrap      Dream        45.7  ...        195.0         3650.0  female\n",
              "340  Chinstrap      Dream        43.5  ...        202.0         3400.0  female\n",
              "343  Chinstrap      Dream        50.2  ...        198.0         3775.0  female\n",
              "\n",
              "[165 rows x 7 columns]"
            ]
          },
          "metadata": {},
          "execution_count": 19
        }
      ]
    },
    {
      "cell_type": "markdown",
      "metadata": {
        "id": "nfCj1eqrxhmx"
      },
      "source": [
        "Seleccionar los pingüinos con masa corporal mayor a 6000"
      ]
    },
    {
      "cell_type": "code",
      "metadata": {
        "id": "fMKexeXfsuQ1",
        "colab": {
          "base_uri": "https://localhost:8080/",
          "height": 111
        },
        "outputId": "a78803b3-0214-46a7-b614-340ce5f58d40"
      },
      "source": [
        "datos[datos.masa_corporal>6000]"
      ],
      "execution_count": null,
      "outputs": [
        {
          "output_type": "execute_result",
          "data": {
            "text/html": [
              "<div>\n",
              "<style scoped>\n",
              "    .dataframe tbody tr th:only-of-type {\n",
              "        vertical-align: middle;\n",
              "    }\n",
              "\n",
              "    .dataframe tbody tr th {\n",
              "        vertical-align: top;\n",
              "    }\n",
              "\n",
              "    .dataframe thead th {\n",
              "        text-align: right;\n",
              "    }\n",
              "</style>\n",
              "<table border=\"1\" class=\"dataframe\">\n",
              "  <thead>\n",
              "    <tr style=\"text-align: right;\">\n",
              "      <th></th>\n",
              "      <th>especie</th>\n",
              "      <th>isla</th>\n",
              "      <th>largo_pico</th>\n",
              "      <th>ancho_pico</th>\n",
              "      <th>largo_aleta</th>\n",
              "      <th>masa_corporal</th>\n",
              "      <th>sexo</th>\n",
              "    </tr>\n",
              "  </thead>\n",
              "  <tbody>\n",
              "    <tr>\n",
              "      <th>169</th>\n",
              "      <td>Gentoo</td>\n",
              "      <td>Biscoe</td>\n",
              "      <td>49.2</td>\n",
              "      <td>15.2</td>\n",
              "      <td>221.0</td>\n",
              "      <td>6300.0</td>\n",
              "      <td>male</td>\n",
              "    </tr>\n",
              "    <tr>\n",
              "      <th>185</th>\n",
              "      <td>Gentoo</td>\n",
              "      <td>Biscoe</td>\n",
              "      <td>59.6</td>\n",
              "      <td>17.0</td>\n",
              "      <td>230.0</td>\n",
              "      <td>6050.0</td>\n",
              "      <td>male</td>\n",
              "    </tr>\n",
              "  </tbody>\n",
              "</table>\n",
              "</div>"
            ],
            "text/plain": [
              "    especie    isla  largo_pico  ancho_pico  largo_aleta  masa_corporal  sexo\n",
              "169  Gentoo  Biscoe        49.2        15.2        221.0         6300.0  male\n",
              "185  Gentoo  Biscoe        59.6        17.0        230.0         6050.0  male"
            ]
          },
          "metadata": {},
          "execution_count": 20
        }
      ]
    },
    {
      "cell_type": "markdown",
      "metadata": {
        "id": "MLb8-ZxOxMap"
      },
      "source": [
        "¿Cómo hacemos si queremos filtrar los pingüino femeninos y de la especie Adelie?"
      ]
    },
    {
      "cell_type": "code",
      "metadata": {
        "id": "srCKOplwAc8l",
        "colab": {
          "base_uri": "https://localhost:8080/",
          "height": 419
        },
        "outputId": "94b6f34a-6fa6-4356-e3a3-60b91e325790"
      },
      "source": [
        "datos[(datos.sexo=='female') &(datos.especie=='Adelie')]"
      ],
      "execution_count": null,
      "outputs": [
        {
          "output_type": "execute_result",
          "data": {
            "text/html": [
              "<div>\n",
              "<style scoped>\n",
              "    .dataframe tbody tr th:only-of-type {\n",
              "        vertical-align: middle;\n",
              "    }\n",
              "\n",
              "    .dataframe tbody tr th {\n",
              "        vertical-align: top;\n",
              "    }\n",
              "\n",
              "    .dataframe thead th {\n",
              "        text-align: right;\n",
              "    }\n",
              "</style>\n",
              "<table border=\"1\" class=\"dataframe\">\n",
              "  <thead>\n",
              "    <tr style=\"text-align: right;\">\n",
              "      <th></th>\n",
              "      <th>especie</th>\n",
              "      <th>isla</th>\n",
              "      <th>largo_pico</th>\n",
              "      <th>ancho_pico</th>\n",
              "      <th>largo_aleta</th>\n",
              "      <th>masa_corporal</th>\n",
              "      <th>sexo</th>\n",
              "    </tr>\n",
              "  </thead>\n",
              "  <tbody>\n",
              "    <tr>\n",
              "      <th>1</th>\n",
              "      <td>Adelie</td>\n",
              "      <td>Torgersen</td>\n",
              "      <td>39.5</td>\n",
              "      <td>17.4</td>\n",
              "      <td>186.0</td>\n",
              "      <td>3800.0</td>\n",
              "      <td>female</td>\n",
              "    </tr>\n",
              "    <tr>\n",
              "      <th>2</th>\n",
              "      <td>Adelie</td>\n",
              "      <td>Torgersen</td>\n",
              "      <td>40.3</td>\n",
              "      <td>18.0</td>\n",
              "      <td>195.0</td>\n",
              "      <td>3250.0</td>\n",
              "      <td>female</td>\n",
              "    </tr>\n",
              "    <tr>\n",
              "      <th>4</th>\n",
              "      <td>Adelie</td>\n",
              "      <td>Torgersen</td>\n",
              "      <td>36.7</td>\n",
              "      <td>19.3</td>\n",
              "      <td>193.0</td>\n",
              "      <td>3450.0</td>\n",
              "      <td>female</td>\n",
              "    </tr>\n",
              "    <tr>\n",
              "      <th>6</th>\n",
              "      <td>Adelie</td>\n",
              "      <td>Torgersen</td>\n",
              "      <td>38.9</td>\n",
              "      <td>17.8</td>\n",
              "      <td>181.0</td>\n",
              "      <td>3625.0</td>\n",
              "      <td>female</td>\n",
              "    </tr>\n",
              "    <tr>\n",
              "      <th>12</th>\n",
              "      <td>Adelie</td>\n",
              "      <td>Torgersen</td>\n",
              "      <td>41.1</td>\n",
              "      <td>17.6</td>\n",
              "      <td>182.0</td>\n",
              "      <td>3200.0</td>\n",
              "      <td>female</td>\n",
              "    </tr>\n",
              "    <tr>\n",
              "      <th>...</th>\n",
              "      <td>...</td>\n",
              "      <td>...</td>\n",
              "      <td>...</td>\n",
              "      <td>...</td>\n",
              "      <td>...</td>\n",
              "      <td>...</td>\n",
              "      <td>...</td>\n",
              "    </tr>\n",
              "    <tr>\n",
              "      <th>142</th>\n",
              "      <td>Adelie</td>\n",
              "      <td>Dream</td>\n",
              "      <td>32.1</td>\n",
              "      <td>15.5</td>\n",
              "      <td>188.0</td>\n",
              "      <td>3050.0</td>\n",
              "      <td>female</td>\n",
              "    </tr>\n",
              "    <tr>\n",
              "      <th>144</th>\n",
              "      <td>Adelie</td>\n",
              "      <td>Dream</td>\n",
              "      <td>37.3</td>\n",
              "      <td>16.8</td>\n",
              "      <td>192.0</td>\n",
              "      <td>3000.0</td>\n",
              "      <td>female</td>\n",
              "    </tr>\n",
              "    <tr>\n",
              "      <th>147</th>\n",
              "      <td>Adelie</td>\n",
              "      <td>Dream</td>\n",
              "      <td>36.6</td>\n",
              "      <td>18.4</td>\n",
              "      <td>184.0</td>\n",
              "      <td>3475.0</td>\n",
              "      <td>female</td>\n",
              "    </tr>\n",
              "    <tr>\n",
              "      <th>148</th>\n",
              "      <td>Adelie</td>\n",
              "      <td>Dream</td>\n",
              "      <td>36.0</td>\n",
              "      <td>17.8</td>\n",
              "      <td>195.0</td>\n",
              "      <td>3450.0</td>\n",
              "      <td>female</td>\n",
              "    </tr>\n",
              "    <tr>\n",
              "      <th>150</th>\n",
              "      <td>Adelie</td>\n",
              "      <td>Dream</td>\n",
              "      <td>36.0</td>\n",
              "      <td>17.1</td>\n",
              "      <td>187.0</td>\n",
              "      <td>3700.0</td>\n",
              "      <td>female</td>\n",
              "    </tr>\n",
              "  </tbody>\n",
              "</table>\n",
              "<p>73 rows × 7 columns</p>\n",
              "</div>"
            ],
            "text/plain": [
              "    especie       isla  largo_pico  ...  largo_aleta  masa_corporal    sexo\n",
              "1    Adelie  Torgersen        39.5  ...        186.0         3800.0  female\n",
              "2    Adelie  Torgersen        40.3  ...        195.0         3250.0  female\n",
              "4    Adelie  Torgersen        36.7  ...        193.0         3450.0  female\n",
              "6    Adelie  Torgersen        38.9  ...        181.0         3625.0  female\n",
              "12   Adelie  Torgersen        41.1  ...        182.0         3200.0  female\n",
              "..      ...        ...         ...  ...          ...            ...     ...\n",
              "142  Adelie      Dream        32.1  ...        188.0         3050.0  female\n",
              "144  Adelie      Dream        37.3  ...        192.0         3000.0  female\n",
              "147  Adelie      Dream        36.6  ...        184.0         3475.0  female\n",
              "148  Adelie      Dream        36.0  ...        195.0         3450.0  female\n",
              "150  Adelie      Dream        36.0  ...        187.0         3700.0  female\n",
              "\n",
              "[73 rows x 7 columns]"
            ]
          },
          "metadata": {},
          "execution_count": 21
        }
      ]
    },
    {
      "cell_type": "markdown",
      "metadata": {
        "id": "jGrOj-KpS-KF"
      },
      "source": [
        "### Visualizaciones y Gráficos"
      ]
    },
    {
      "cell_type": "code",
      "metadata": {
        "id": "Vk8y8exvvLsB"
      },
      "source": [
        "import plotly.express as px"
      ],
      "execution_count": null,
      "outputs": []
    },
    {
      "cell_type": "markdown",
      "metadata": {
        "id": "89bWekhRCeTa"
      },
      "source": [
        "¿Cuántos pingüinos hay en cada isla?"
      ]
    },
    {
      "cell_type": "code",
      "metadata": {
        "id": "iAs2SDpu_8JR"
      },
      "source": [
        "px.histogram(datos,\n",
        "             x='isla',\n",
        "             width=500)"
      ],
      "execution_count": null,
      "outputs": []
    },
    {
      "cell_type": "markdown",
      "metadata": {
        "id": "nZucN84r1IcO"
      },
      "source": [
        "¿Cuántos pingüinos hay de cada especie?"
      ]
    },
    {
      "cell_type": "code",
      "metadata": {
        "id": "QNsuZf_y1Fki"
      },
      "source": [
        "px.histogram(datos, \n",
        "             x='especie',\n",
        "             height=400, # alto\n",
        "             width=400 #ancho\n",
        "             )\n"
      ],
      "execution_count": null,
      "outputs": []
    },
    {
      "cell_type": "code",
      "metadata": {
        "id": "8eJJ-fNQ9UDP"
      },
      "source": [
        "fig=px.histogram(datos, \n",
        "             x='especie',\n",
        "             height=400, width=400\n",
        "             )\n",
        "fig.update_layout(title='Cantidad de pinguinos de cada especie',\n",
        "                  yaxis_title='Cantidad',\n",
        "                  xaxis_title=' Estas son las Especies')\n",
        "fig.show()"
      ],
      "execution_count": null,
      "outputs": []
    },
    {
      "cell_type": "markdown",
      "metadata": {
        "id": "-3akCGRQ-lMu"
      },
      "source": [
        "¿Cada especie vive en una isla distinta?"
      ]
    },
    {
      "cell_type": "code",
      "metadata": {
        "id": "5oRnhXZx-oZq"
      },
      "source": [
        "fig=px.histogram(datos, \n",
        "             x='isla',\n",
        "             color='especie',\n",
        "             height=500, \n",
        "             width=800)\n",
        "\n",
        "fig.show()"
      ],
      "execution_count": null,
      "outputs": []
    },
    {
      "cell_type": "markdown",
      "metadata": {
        "id": "XpPLxLw3EDrA"
      },
      "source": [
        "¿Cómo es el ancho y el largo de los picos de los pingüinos?"
      ]
    },
    {
      "cell_type": "code",
      "metadata": {
        "id": "u2o1AqDeHmya"
      },
      "source": [
        "fig=px.scatter(datos,\n",
        "           x='ancho_pico',\n",
        "           y='largo_pico')\n",
        "\n",
        "fig.show()"
      ],
      "execution_count": null,
      "outputs": []
    },
    {
      "cell_type": "markdown",
      "metadata": {
        "id": "e33kS2KzIZMz"
      },
      "source": [
        "¿Hay diferencias entre los picos de cada especie?"
      ]
    },
    {
      "cell_type": "code",
      "metadata": {
        "id": "njmDin8dHoKn"
      },
      "source": [
        "fig=px.scatter(datos,\n",
        "           x='ancho_pico',\n",
        "           y='largo_pico',\n",
        "           color='especie')\n",
        "\n",
        "fig.show()"
      ],
      "execution_count": null,
      "outputs": []
    },
    {
      "cell_type": "markdown",
      "metadata": {
        "id": "YU0JEnhmId3d"
      },
      "source": [
        "Otras Preguntas:\n",
        "- ¿Los pingüinos con mayor masa corportal tienen las aletas mas grandes?\n",
        "- ¿Los pingüinos con mayor masa corportal tienen picos más largos?\n",
        "- ¿Qué especie tiene mayor masa corporal?\n"
      ]
    },
    {
      "cell_type": "code",
      "metadata": {
        "id": "Zw-YH59G51AE"
      },
      "source": [
        "#¿Los pingüinos con mayor masa corportal tienen las aletas mas grandes?\n",
        "fig=px.scatter(datos,\n",
        "           x='largo_aleta',\n",
        "           y='masa_corporal',\n",
        "           color='especie',\n",
        "           width=800)\n",
        "\n",
        "fig.show()"
      ],
      "execution_count": null,
      "outputs": []
    },
    {
      "cell_type": "code",
      "metadata": {
        "id": "kO0GBAOe7bs8"
      },
      "source": [
        "#¿Los pingüinos con mayor masa corportal tienen picos mas largos?\n",
        "fig=px.scatter(datos,\n",
        "           x='largo_pico',\n",
        "           y='masa_corporal',\n",
        "           color='especie')\n",
        "\n",
        "fig.show()"
      ],
      "execution_count": null,
      "outputs": []
    },
    {
      "cell_type": "code",
      "metadata": {
        "id": "G-F1YZTN5_aI"
      },
      "source": [
        "#Especie con mayor masa corporal\n",
        "fig=px.histogram(datos,\n",
        "           x='masa_corporal',\n",
        "           color='especie',\n",
        "           barmode='overlay',\n",
        "           width=800)\n",
        "\n",
        "fig.show()"
      ],
      "execution_count": null,
      "outputs": []
    },
    {
      "cell_type": "markdown",
      "metadata": {
        "id": "PwQpuura_5uy"
      },
      "source": [
        "## 3. Pre-procesar los datos"
      ]
    },
    {
      "cell_type": "markdown",
      "metadata": {
        "id": "imfCKzlhAKHr"
      },
      "source": [
        "### Valores nulos"
      ]
    },
    {
      "cell_type": "code",
      "metadata": {
        "colab": {
          "base_uri": "https://localhost:8080/"
        },
        "id": "y3VW8Cd2w3BR",
        "outputId": "78e3957b-2796-409b-99f4-3a8f2f42c4c6"
      },
      "source": [
        "datos.head()"
      ],
      "execution_count": null,
      "outputs": [
        {
          "output_type": "execute_result",
          "data": {
            "text/html": [
              "<div>\n",
              "<style scoped>\n",
              "    .dataframe tbody tr th:only-of-type {\n",
              "        vertical-align: middle;\n",
              "    }\n",
              "\n",
              "    .dataframe tbody tr th {\n",
              "        vertical-align: top;\n",
              "    }\n",
              "\n",
              "    .dataframe thead th {\n",
              "        text-align: right;\n",
              "    }\n",
              "</style>\n",
              "<table border=\"1\" class=\"dataframe\">\n",
              "  <thead>\n",
              "    <tr style=\"text-align: right;\">\n",
              "      <th></th>\n",
              "      <th>especie</th>\n",
              "      <th>isla</th>\n",
              "      <th>largo_pico</th>\n",
              "      <th>ancho_pico</th>\n",
              "      <th>largo_aleta</th>\n",
              "      <th>masa_corporal</th>\n",
              "      <th>sexo</th>\n",
              "    </tr>\n",
              "  </thead>\n",
              "  <tbody>\n",
              "    <tr>\n",
              "      <th>0</th>\n",
              "      <td>Adelie</td>\n",
              "      <td>Torgersen</td>\n",
              "      <td>39.1</td>\n",
              "      <td>18.7</td>\n",
              "      <td>181.0</td>\n",
              "      <td>3750.0</td>\n",
              "      <td>male</td>\n",
              "    </tr>\n",
              "    <tr>\n",
              "      <th>1</th>\n",
              "      <td>Adelie</td>\n",
              "      <td>Torgersen</td>\n",
              "      <td>39.5</td>\n",
              "      <td>17.4</td>\n",
              "      <td>186.0</td>\n",
              "      <td>3800.0</td>\n",
              "      <td>female</td>\n",
              "    </tr>\n",
              "    <tr>\n",
              "      <th>2</th>\n",
              "      <td>Adelie</td>\n",
              "      <td>Torgersen</td>\n",
              "      <td>40.3</td>\n",
              "      <td>18.0</td>\n",
              "      <td>195.0</td>\n",
              "      <td>3250.0</td>\n",
              "      <td>female</td>\n",
              "    </tr>\n",
              "    <tr>\n",
              "      <th>3</th>\n",
              "      <td>Adelie</td>\n",
              "      <td>Torgersen</td>\n",
              "      <td>NaN</td>\n",
              "      <td>NaN</td>\n",
              "      <td>NaN</td>\n",
              "      <td>NaN</td>\n",
              "      <td>NaN</td>\n",
              "    </tr>\n",
              "    <tr>\n",
              "      <th>4</th>\n",
              "      <td>Adelie</td>\n",
              "      <td>Torgersen</td>\n",
              "      <td>36.7</td>\n",
              "      <td>19.3</td>\n",
              "      <td>193.0</td>\n",
              "      <td>3450.0</td>\n",
              "      <td>female</td>\n",
              "    </tr>\n",
              "  </tbody>\n",
              "</table>\n",
              "</div>"
            ],
            "text/plain": [
              "  especie       isla  largo_pico  ...  largo_aleta  masa_corporal    sexo\n",
              "0  Adelie  Torgersen        39.1  ...        181.0         3750.0    male\n",
              "1  Adelie  Torgersen        39.5  ...        186.0         3800.0  female\n",
              "2  Adelie  Torgersen        40.3  ...        195.0         3250.0  female\n",
              "3  Adelie  Torgersen         NaN  ...          NaN            NaN     NaN\n",
              "4  Adelie  Torgersen        36.7  ...        193.0         3450.0  female\n",
              "\n",
              "[5 rows x 7 columns]"
            ]
          },
          "metadata": {
            "tags": []
          },
          "execution_count": 32
        }
      ]
    },
    {
      "cell_type": "code",
      "metadata": {
        "id": "8o9tx-o_ABCl",
        "colab": {
          "base_uri": "https://localhost:8080/"
        },
        "outputId": "365187e9-815c-49ce-a220-155ccec03fce"
      },
      "source": [
        "datos.isnull().sum()"
      ],
      "execution_count": null,
      "outputs": [
        {
          "output_type": "execute_result",
          "data": {
            "text/plain": [
              "especie           0\n",
              "isla              0\n",
              "largo_pico        2\n",
              "ancho_pico        2\n",
              "largo_aleta       2\n",
              "masa_corporal     2\n",
              "sexo             11\n",
              "dtype: int64"
            ]
          },
          "metadata": {
            "tags": []
          },
          "execution_count": 33
        }
      ]
    },
    {
      "cell_type": "markdown",
      "metadata": {
        "id": "SdH49t6TAW0l"
      },
      "source": [
        "- Eliminar las filas con valores nulos"
      ]
    },
    {
      "cell_type": "code",
      "metadata": {
        "id": "gOM76_MWxo2S",
        "colab": {
          "base_uri": "https://localhost:8080/"
        },
        "outputId": "2e1eae18-f108-4e34-b24e-3fb890b95579"
      },
      "source": [
        "datos.shape"
      ],
      "execution_count": null,
      "outputs": [
        {
          "output_type": "execute_result",
          "data": {
            "text/plain": [
              "(344, 7)"
            ]
          },
          "metadata": {
            "tags": []
          },
          "execution_count": 34
        }
      ]
    },
    {
      "cell_type": "code",
      "metadata": {
        "id": "KKY1caTJAi0N",
        "colab": {
          "base_uri": "https://localhost:8080/"
        },
        "outputId": "f25a5654-5f90-4b9c-de79-883b2d63fcd7"
      },
      "source": [
        "datos.dropna()"
      ],
      "execution_count": null,
      "outputs": [
        {
          "output_type": "execute_result",
          "data": {
            "text/html": [
              "<div>\n",
              "<style scoped>\n",
              "    .dataframe tbody tr th:only-of-type {\n",
              "        vertical-align: middle;\n",
              "    }\n",
              "\n",
              "    .dataframe tbody tr th {\n",
              "        vertical-align: top;\n",
              "    }\n",
              "\n",
              "    .dataframe thead th {\n",
              "        text-align: right;\n",
              "    }\n",
              "</style>\n",
              "<table border=\"1\" class=\"dataframe\">\n",
              "  <thead>\n",
              "    <tr style=\"text-align: right;\">\n",
              "      <th></th>\n",
              "      <th>especie</th>\n",
              "      <th>isla</th>\n",
              "      <th>largo_pico</th>\n",
              "      <th>ancho_pico</th>\n",
              "      <th>largo_aleta</th>\n",
              "      <th>masa_corporal</th>\n",
              "      <th>sexo</th>\n",
              "    </tr>\n",
              "  </thead>\n",
              "  <tbody>\n",
              "    <tr>\n",
              "      <th>0</th>\n",
              "      <td>Adelie</td>\n",
              "      <td>Torgersen</td>\n",
              "      <td>39.1</td>\n",
              "      <td>18.7</td>\n",
              "      <td>181.0</td>\n",
              "      <td>3750.0</td>\n",
              "      <td>male</td>\n",
              "    </tr>\n",
              "    <tr>\n",
              "      <th>1</th>\n",
              "      <td>Adelie</td>\n",
              "      <td>Torgersen</td>\n",
              "      <td>39.5</td>\n",
              "      <td>17.4</td>\n",
              "      <td>186.0</td>\n",
              "      <td>3800.0</td>\n",
              "      <td>female</td>\n",
              "    </tr>\n",
              "    <tr>\n",
              "      <th>2</th>\n",
              "      <td>Adelie</td>\n",
              "      <td>Torgersen</td>\n",
              "      <td>40.3</td>\n",
              "      <td>18.0</td>\n",
              "      <td>195.0</td>\n",
              "      <td>3250.0</td>\n",
              "      <td>female</td>\n",
              "    </tr>\n",
              "    <tr>\n",
              "      <th>4</th>\n",
              "      <td>Adelie</td>\n",
              "      <td>Torgersen</td>\n",
              "      <td>36.7</td>\n",
              "      <td>19.3</td>\n",
              "      <td>193.0</td>\n",
              "      <td>3450.0</td>\n",
              "      <td>female</td>\n",
              "    </tr>\n",
              "    <tr>\n",
              "      <th>5</th>\n",
              "      <td>Adelie</td>\n",
              "      <td>Torgersen</td>\n",
              "      <td>39.3</td>\n",
              "      <td>20.6</td>\n",
              "      <td>190.0</td>\n",
              "      <td>3650.0</td>\n",
              "      <td>male</td>\n",
              "    </tr>\n",
              "    <tr>\n",
              "      <th>...</th>\n",
              "      <td>...</td>\n",
              "      <td>...</td>\n",
              "      <td>...</td>\n",
              "      <td>...</td>\n",
              "      <td>...</td>\n",
              "      <td>...</td>\n",
              "      <td>...</td>\n",
              "    </tr>\n",
              "    <tr>\n",
              "      <th>339</th>\n",
              "      <td>Chinstrap</td>\n",
              "      <td>Dream</td>\n",
              "      <td>55.8</td>\n",
              "      <td>19.8</td>\n",
              "      <td>207.0</td>\n",
              "      <td>4000.0</td>\n",
              "      <td>male</td>\n",
              "    </tr>\n",
              "    <tr>\n",
              "      <th>340</th>\n",
              "      <td>Chinstrap</td>\n",
              "      <td>Dream</td>\n",
              "      <td>43.5</td>\n",
              "      <td>18.1</td>\n",
              "      <td>202.0</td>\n",
              "      <td>3400.0</td>\n",
              "      <td>female</td>\n",
              "    </tr>\n",
              "    <tr>\n",
              "      <th>341</th>\n",
              "      <td>Chinstrap</td>\n",
              "      <td>Dream</td>\n",
              "      <td>49.6</td>\n",
              "      <td>18.2</td>\n",
              "      <td>193.0</td>\n",
              "      <td>3775.0</td>\n",
              "      <td>male</td>\n",
              "    </tr>\n",
              "    <tr>\n",
              "      <th>342</th>\n",
              "      <td>Chinstrap</td>\n",
              "      <td>Dream</td>\n",
              "      <td>50.8</td>\n",
              "      <td>19.0</td>\n",
              "      <td>210.0</td>\n",
              "      <td>4100.0</td>\n",
              "      <td>male</td>\n",
              "    </tr>\n",
              "    <tr>\n",
              "      <th>343</th>\n",
              "      <td>Chinstrap</td>\n",
              "      <td>Dream</td>\n",
              "      <td>50.2</td>\n",
              "      <td>18.7</td>\n",
              "      <td>198.0</td>\n",
              "      <td>3775.0</td>\n",
              "      <td>female</td>\n",
              "    </tr>\n",
              "  </tbody>\n",
              "</table>\n",
              "<p>333 rows × 7 columns</p>\n",
              "</div>"
            ],
            "text/plain": [
              "       especie       isla  largo_pico  ...  largo_aleta  masa_corporal    sexo\n",
              "0       Adelie  Torgersen        39.1  ...        181.0         3750.0    male\n",
              "1       Adelie  Torgersen        39.5  ...        186.0         3800.0  female\n",
              "2       Adelie  Torgersen        40.3  ...        195.0         3250.0  female\n",
              "4       Adelie  Torgersen        36.7  ...        193.0         3450.0  female\n",
              "5       Adelie  Torgersen        39.3  ...        190.0         3650.0    male\n",
              "..         ...        ...         ...  ...          ...            ...     ...\n",
              "339  Chinstrap      Dream        55.8  ...        207.0         4000.0    male\n",
              "340  Chinstrap      Dream        43.5  ...        202.0         3400.0  female\n",
              "341  Chinstrap      Dream        49.6  ...        193.0         3775.0    male\n",
              "342  Chinstrap      Dream        50.8  ...        210.0         4100.0    male\n",
              "343  Chinstrap      Dream        50.2  ...        198.0         3775.0  female\n",
              "\n",
              "[333 rows x 7 columns]"
            ]
          },
          "metadata": {
            "tags": []
          },
          "execution_count": 35
        }
      ]
    },
    {
      "cell_type": "markdown",
      "metadata": {
        "id": "XscI5PzAAbt_"
      },
      "source": [
        "- Reemplazar los valores nulos por otro valor\n",
        "\n",
        "Si el atributo (columna) es del tipo numerico, podemos reemplazar por el promedio"
      ]
    },
    {
      "cell_type": "code",
      "metadata": {
        "id": "UhNfBmhABBUo",
        "colab": {
          "base_uri": "https://localhost:8080/"
        },
        "outputId": "3a156084-d8ef-4e0d-8ea5-a297e2342d9b"
      },
      "source": [
        "datos['largo_pico'].mean()"
      ],
      "execution_count": null,
      "outputs": [
        {
          "output_type": "execute_result",
          "data": {
            "text/plain": [
              "43.921929824561424"
            ]
          },
          "metadata": {
            "tags": []
          },
          "execution_count": 36
        }
      ]
    },
    {
      "cell_type": "code",
      "metadata": {
        "id": "zDA5rPRKAwNy"
      },
      "source": [
        "datos['largo_pico'].fillna(43.9, inplace=True)"
      ],
      "execution_count": null,
      "outputs": []
    },
    {
      "cell_type": "code",
      "metadata": {
        "id": "bSNhGvquyXqc",
        "colab": {
          "base_uri": "https://localhost:8080/"
        },
        "outputId": "539442b0-2583-41d5-b4a9-ee6b5076e9fa"
      },
      "source": [
        "datos.isnull().sum()"
      ],
      "execution_count": null,
      "outputs": [
        {
          "output_type": "execute_result",
          "data": {
            "text/plain": [
              "especie           0\n",
              "isla              0\n",
              "largo_pico        0\n",
              "ancho_pico        2\n",
              "largo_aleta       2\n",
              "masa_corporal     2\n",
              "sexo             11\n",
              "dtype: int64"
            ]
          },
          "metadata": {
            "tags": []
          },
          "execution_count": 38
        }
      ]
    },
    {
      "cell_type": "code",
      "metadata": {
        "id": "kCz4-M5fBmWn",
        "colab": {
          "base_uri": "https://localhost:8080/"
        },
        "outputId": "e369ba43-698d-4972-fa43-72cc240c9ce7"
      },
      "source": [
        "datos['ancho_pico'].mean()"
      ],
      "execution_count": null,
      "outputs": [
        {
          "output_type": "execute_result",
          "data": {
            "text/plain": [
              "17.15116959064328"
            ]
          },
          "metadata": {
            "tags": []
          },
          "execution_count": 39
        }
      ]
    },
    {
      "cell_type": "code",
      "metadata": {
        "id": "--oVUeUBA839"
      },
      "source": [
        "datos['ancho_pico'].fillna(17.15, inplace=True)"
      ],
      "execution_count": null,
      "outputs": []
    },
    {
      "cell_type": "code",
      "metadata": {
        "id": "EBMmljGUBq6g",
        "colab": {
          "base_uri": "https://localhost:8080/"
        },
        "outputId": "e66c48a2-7a62-49b5-e569-23ba8b61fa87"
      },
      "source": [
        "datos['largo_aleta'].mean()"
      ],
      "execution_count": null,
      "outputs": [
        {
          "output_type": "execute_result",
          "data": {
            "text/plain": [
              "200.91520467836258"
            ]
          },
          "metadata": {
            "tags": []
          },
          "execution_count": 41
        }
      ]
    },
    {
      "cell_type": "code",
      "metadata": {
        "id": "W0UTtPRCBiPn"
      },
      "source": [
        "datos['largo_aleta'].fillna(200.9, inplace=True)"
      ],
      "execution_count": null,
      "outputs": []
    },
    {
      "cell_type": "code",
      "metadata": {
        "id": "vkMHzLjHBy8r",
        "colab": {
          "base_uri": "https://localhost:8080/"
        },
        "outputId": "ae31b6d6-b293-46a1-b882-0702ebaef7d8"
      },
      "source": [
        "datos['masa_corporal'].mean()"
      ],
      "execution_count": null,
      "outputs": [
        {
          "output_type": "execute_result",
          "data": {
            "text/plain": [
              "4201.754385964912"
            ]
          },
          "metadata": {
            "tags": []
          },
          "execution_count": 43
        }
      ]
    },
    {
      "cell_type": "code",
      "metadata": {
        "id": "54IXnjW9By42"
      },
      "source": [
        "datos['masa_corporal'].fillna(4201.7, inplace=True)"
      ],
      "execution_count": null,
      "outputs": []
    },
    {
      "cell_type": "markdown",
      "metadata": {
        "id": "uW1BnGPZB6xS"
      },
      "source": [
        "Si el atributo (columna) es del tipo texto, podemos reemplazar por el valor que mas aparece."
      ]
    },
    {
      "cell_type": "code",
      "metadata": {
        "id": "BpZ69YuYCFu5",
        "colab": {
          "base_uri": "https://localhost:8080/"
        },
        "outputId": "fa0bae73-ff94-4767-82fc-5f02f0260aad"
      },
      "source": [
        "datos['sexo'].value_counts()"
      ],
      "execution_count": null,
      "outputs": [
        {
          "output_type": "execute_result",
          "data": {
            "text/plain": [
              "male      168\n",
              "female    165\n",
              "Name: sexo, dtype: int64"
            ]
          },
          "metadata": {
            "tags": []
          },
          "execution_count": 45
        }
      ]
    },
    {
      "cell_type": "code",
      "metadata": {
        "id": "eDf3EmORB6QH"
      },
      "source": [
        "datos['sexo'].fillna('male', inplace=True)"
      ],
      "execution_count": null,
      "outputs": []
    },
    {
      "cell_type": "code",
      "metadata": {
        "id": "iC_YhVBzzJ8v",
        "colab": {
          "base_uri": "https://localhost:8080/"
        },
        "outputId": "bf3bc6ae-8f8f-49c8-e9e0-d62ef2c61388"
      },
      "source": [
        "datos.isnull().sum()"
      ],
      "execution_count": null,
      "outputs": [
        {
          "output_type": "execute_result",
          "data": {
            "text/plain": [
              "especie          0\n",
              "isla             0\n",
              "largo_pico       0\n",
              "ancho_pico       0\n",
              "largo_aleta      0\n",
              "masa_corporal    0\n",
              "sexo             0\n",
              "dtype: int64"
            ]
          },
          "metadata": {
            "tags": []
          },
          "execution_count": 47
        }
      ]
    },
    {
      "cell_type": "markdown",
      "metadata": {
        "id": "E07lyeeVCRDF"
      },
      "source": [
        "### Valores extremos (outliers)\n"
      ]
    },
    {
      "cell_type": "markdown",
      "metadata": {
        "id": "v-KBXMoW65yP"
      },
      "source": [
        "\n",
        "<img src=\"https://1.bp.blogspot.com/-QF9Y3ywJKZw/W7pjfM3rQaI/AAAAAAAAW3A/kdbRl5QLO-gp8ZJI65BrMYERT6oHKpFFQCLcBGAs/s1600/Captura3.PNG\">"
      ]
    },
    {
      "cell_type": "markdown",
      "metadata": {
        "id": "Na2DwL9lz_9H"
      },
      "source": [
        "Grafico BOXPLOT"
      ]
    },
    {
      "cell_type": "code",
      "metadata": {
        "id": "A6cHPZ32yccQ",
        "colab": {
          "base_uri": "https://localhost:8080/"
        },
        "outputId": "c81af56f-e2c3-4d49-b14c-ab60eeb74f69"
      },
      "source": [
        "px.box(datos,\n",
        "       y='largo_pico',\n",
        "       width=400)"
      ],
      "execution_count": null,
      "outputs": [
        {
          "output_type": "display_data",
          "data": {
            "text/html": [
              "<html>\n",
              "<head><meta charset=\"utf-8\" /></head>\n",
              "<body>\n",
              "    <div>\n",
              "            <script src=\"https://cdnjs.cloudflare.com/ajax/libs/mathjax/2.7.5/MathJax.js?config=TeX-AMS-MML_SVG\"></script><script type=\"text/javascript\">if (window.MathJax) {MathJax.Hub.Config({SVG: {font: \"STIX-Web\"}});}</script>\n",
              "                <script type=\"text/javascript\">window.PlotlyConfig = {MathJaxConfig: 'local'};</script>\n",
              "        <script src=\"https://cdn.plot.ly/plotly-latest.min.js\"></script>    \n",
              "            <div id=\"66223e2e-5525-4bd2-a681-f8621c3f1ae5\" class=\"plotly-graph-div\" style=\"height:525px; width:400px;\"></div>\n",
              "            <script type=\"text/javascript\">\n",
              "                \n",
              "                    window.PLOTLYENV=window.PLOTLYENV || {};\n",
              "                    \n",
              "                if (document.getElementById(\"66223e2e-5525-4bd2-a681-f8621c3f1ae5\")) {\n",
              "                    Plotly.newPlot(\n",
              "                        '66223e2e-5525-4bd2-a681-f8621c3f1ae5',\n",
              "                        [{\"alignmentgroup\": \"True\", \"hoverlabel\": {\"namelength\": 0}, \"hovertemplate\": \"largo_pico=%{y}\", \"legendgroup\": \"\", \"marker\": {\"color\": \"#636efa\"}, \"name\": \"\", \"notched\": false, \"offsetgroup\": \"\", \"orientation\": \"v\", \"showlegend\": false, \"type\": \"box\", \"x0\": \" \", \"xaxis\": \"x\", \"y\": [39.1, 39.5, 40.3, 43.9, 36.7, 39.3, 38.9, 39.2, 34.1, 42.0, 37.8, 37.8, 41.1, 38.6, 34.6, 36.6, 38.7, 42.5, 34.4, 46.0, 37.8, 37.7, 35.9, 38.2, 38.8, 35.3, 40.6, 40.5, 37.9, 40.5, 39.5, 37.2, 39.5, 40.9, 36.4, 39.2, 38.8, 42.2, 37.6, 39.8, 36.5, 40.8, 36.0, 44.1, 37.0, 39.6, 41.1, 37.5, 36.0, 42.3, 39.6, 40.1, 35.0, 42.0, 34.5, 41.4, 39.0, 40.6, 36.5, 37.6, 35.7, 41.3, 37.6, 41.1, 36.4, 41.6, 35.5, 41.1, 35.9, 41.8, 33.5, 39.7, 39.6, 45.8, 35.5, 42.8, 40.9, 37.2, 36.2, 42.1, 34.6, 42.9, 36.7, 35.1, 37.3, 41.3, 36.3, 36.9, 38.3, 38.9, 35.7, 41.1, 34.0, 39.6, 36.2, 40.8, 38.1, 40.3, 33.1, 43.2, 35.0, 41.0, 37.7, 37.8, 37.9, 39.7, 38.6, 38.2, 38.1, 43.2, 38.1, 45.6, 39.7, 42.2, 39.6, 42.7, 38.6, 37.3, 35.7, 41.1, 36.2, 37.7, 40.2, 41.4, 35.2, 40.6, 38.8, 41.5, 39.0, 44.1, 38.5, 43.1, 36.8, 37.5, 38.1, 41.1, 35.6, 40.2, 37.0, 39.7, 40.2, 40.6, 32.1, 40.7, 37.3, 39.0, 39.2, 36.6, 36.0, 37.8, 36.0, 41.5, 46.1, 50.0, 48.7, 50.0, 47.6, 46.5, 45.4, 46.7, 43.3, 46.8, 40.9, 49.0, 45.5, 48.4, 45.8, 49.3, 42.0, 49.2, 46.2, 48.7, 50.2, 45.1, 46.5, 46.3, 42.9, 46.1, 44.5, 47.8, 48.2, 50.0, 47.3, 42.8, 45.1, 59.6, 49.1, 48.4, 42.6, 44.4, 44.0, 48.7, 42.7, 49.6, 45.3, 49.6, 50.5, 43.6, 45.5, 50.5, 44.9, 45.2, 46.6, 48.5, 45.1, 50.1, 46.5, 45.0, 43.8, 45.5, 43.2, 50.4, 45.3, 46.2, 45.7, 54.3, 45.8, 49.8, 46.2, 49.5, 43.5, 50.7, 47.7, 46.4, 48.2, 46.5, 46.4, 48.6, 47.5, 51.1, 45.2, 45.2, 49.1, 52.5, 47.4, 50.0, 44.9, 50.8, 43.4, 51.3, 47.5, 52.1, 47.5, 52.2, 45.5, 49.5, 44.5, 50.8, 49.4, 46.9, 48.4, 51.1, 48.5, 55.9, 47.2, 49.1, 47.3, 46.8, 41.7, 53.4, 43.3, 48.1, 50.5, 49.8, 43.5, 51.5, 46.2, 55.1, 44.5, 48.8, 47.2, 43.9, 46.8, 50.4, 45.2, 49.9, 46.5, 50.0, 51.3, 45.4, 52.7, 45.2, 46.1, 51.3, 46.0, 51.3, 46.6, 51.7, 47.0, 52.0, 45.9, 50.5, 50.3, 58.0, 46.4, 49.2, 42.4, 48.5, 43.2, 50.6, 46.7, 52.0, 50.5, 49.5, 46.4, 52.8, 40.9, 54.2, 42.5, 51.0, 49.7, 47.5, 47.6, 52.0, 46.9, 53.5, 49.0, 46.2, 50.9, 45.5, 50.9, 50.8, 50.1, 49.0, 51.5, 49.8, 48.1, 51.4, 45.7, 50.7, 42.5, 52.2, 45.2, 49.3, 50.2, 45.6, 51.9, 46.8, 45.7, 55.8, 43.5, 49.6, 50.8, 50.2], \"y0\": \" \", \"yaxis\": \"y\"}],\n",
              "                        {\"boxmode\": \"group\", \"legend\": {\"tracegroupgap\": 0}, \"margin\": {\"t\": 60}, \"template\": {\"data\": {\"bar\": [{\"error_x\": {\"color\": \"#2a3f5f\"}, \"error_y\": {\"color\": \"#2a3f5f\"}, \"marker\": {\"line\": {\"color\": \"#E5ECF6\", \"width\": 0.5}}, \"type\": \"bar\"}], \"barpolar\": [{\"marker\": {\"line\": {\"color\": \"#E5ECF6\", \"width\": 0.5}}, \"type\": \"barpolar\"}], \"carpet\": [{\"aaxis\": {\"endlinecolor\": \"#2a3f5f\", \"gridcolor\": \"white\", \"linecolor\": \"white\", \"minorgridcolor\": \"white\", \"startlinecolor\": \"#2a3f5f\"}, \"baxis\": {\"endlinecolor\": \"#2a3f5f\", \"gridcolor\": \"white\", \"linecolor\": \"white\", \"minorgridcolor\": \"white\", \"startlinecolor\": \"#2a3f5f\"}, \"type\": \"carpet\"}], \"choropleth\": [{\"colorbar\": {\"outlinewidth\": 0, \"ticks\": \"\"}, \"type\": \"choropleth\"}], \"contour\": [{\"colorbar\": {\"outlinewidth\": 0, \"ticks\": \"\"}, \"colorscale\": [[0.0, \"#0d0887\"], [0.1111111111111111, \"#46039f\"], [0.2222222222222222, \"#7201a8\"], [0.3333333333333333, \"#9c179e\"], [0.4444444444444444, \"#bd3786\"], [0.5555555555555556, \"#d8576b\"], [0.6666666666666666, \"#ed7953\"], [0.7777777777777778, \"#fb9f3a\"], [0.8888888888888888, \"#fdca26\"], [1.0, \"#f0f921\"]], \"type\": \"contour\"}], \"contourcarpet\": [{\"colorbar\": {\"outlinewidth\": 0, \"ticks\": \"\"}, \"type\": \"contourcarpet\"}], \"heatmap\": [{\"colorbar\": {\"outlinewidth\": 0, \"ticks\": \"\"}, \"colorscale\": [[0.0, \"#0d0887\"], [0.1111111111111111, \"#46039f\"], [0.2222222222222222, \"#7201a8\"], [0.3333333333333333, \"#9c179e\"], [0.4444444444444444, \"#bd3786\"], [0.5555555555555556, \"#d8576b\"], [0.6666666666666666, \"#ed7953\"], [0.7777777777777778, \"#fb9f3a\"], [0.8888888888888888, \"#fdca26\"], [1.0, \"#f0f921\"]], \"type\": \"heatmap\"}], \"heatmapgl\": [{\"colorbar\": {\"outlinewidth\": 0, \"ticks\": \"\"}, \"colorscale\": [[0.0, \"#0d0887\"], [0.1111111111111111, \"#46039f\"], [0.2222222222222222, \"#7201a8\"], [0.3333333333333333, \"#9c179e\"], [0.4444444444444444, \"#bd3786\"], [0.5555555555555556, \"#d8576b\"], [0.6666666666666666, \"#ed7953\"], [0.7777777777777778, \"#fb9f3a\"], [0.8888888888888888, \"#fdca26\"], [1.0, \"#f0f921\"]], \"type\": \"heatmapgl\"}], \"histogram\": [{\"marker\": {\"colorbar\": {\"outlinewidth\": 0, \"ticks\": \"\"}}, \"type\": \"histogram\"}], \"histogram2d\": [{\"colorbar\": {\"outlinewidth\": 0, \"ticks\": \"\"}, \"colorscale\": [[0.0, \"#0d0887\"], [0.1111111111111111, \"#46039f\"], [0.2222222222222222, \"#7201a8\"], [0.3333333333333333, \"#9c179e\"], [0.4444444444444444, \"#bd3786\"], [0.5555555555555556, \"#d8576b\"], [0.6666666666666666, \"#ed7953\"], [0.7777777777777778, \"#fb9f3a\"], [0.8888888888888888, \"#fdca26\"], [1.0, \"#f0f921\"]], \"type\": \"histogram2d\"}], \"histogram2dcontour\": [{\"colorbar\": {\"outlinewidth\": 0, \"ticks\": \"\"}, \"colorscale\": [[0.0, \"#0d0887\"], [0.1111111111111111, \"#46039f\"], [0.2222222222222222, \"#7201a8\"], [0.3333333333333333, \"#9c179e\"], [0.4444444444444444, \"#bd3786\"], [0.5555555555555556, \"#d8576b\"], [0.6666666666666666, \"#ed7953\"], [0.7777777777777778, \"#fb9f3a\"], [0.8888888888888888, \"#fdca26\"], [1.0, \"#f0f921\"]], \"type\": \"histogram2dcontour\"}], \"mesh3d\": [{\"colorbar\": {\"outlinewidth\": 0, \"ticks\": \"\"}, \"type\": \"mesh3d\"}], \"parcoords\": [{\"line\": {\"colorbar\": {\"outlinewidth\": 0, \"ticks\": \"\"}}, \"type\": \"parcoords\"}], \"pie\": [{\"automargin\": true, \"type\": \"pie\"}], \"scatter\": [{\"marker\": {\"colorbar\": {\"outlinewidth\": 0, \"ticks\": \"\"}}, \"type\": \"scatter\"}], \"scatter3d\": [{\"line\": {\"colorbar\": {\"outlinewidth\": 0, \"ticks\": \"\"}}, \"marker\": {\"colorbar\": {\"outlinewidth\": 0, \"ticks\": \"\"}}, \"type\": \"scatter3d\"}], \"scattercarpet\": [{\"marker\": {\"colorbar\": {\"outlinewidth\": 0, \"ticks\": \"\"}}, \"type\": \"scattercarpet\"}], \"scattergeo\": [{\"marker\": {\"colorbar\": {\"outlinewidth\": 0, \"ticks\": \"\"}}, \"type\": \"scattergeo\"}], \"scattergl\": [{\"marker\": {\"colorbar\": {\"outlinewidth\": 0, \"ticks\": \"\"}}, \"type\": \"scattergl\"}], \"scattermapbox\": [{\"marker\": {\"colorbar\": {\"outlinewidth\": 0, \"ticks\": \"\"}}, \"type\": \"scattermapbox\"}], \"scatterpolar\": [{\"marker\": {\"colorbar\": {\"outlinewidth\": 0, \"ticks\": \"\"}}, \"type\": \"scatterpolar\"}], \"scatterpolargl\": [{\"marker\": {\"colorbar\": {\"outlinewidth\": 0, \"ticks\": \"\"}}, \"type\": \"scatterpolargl\"}], \"scatterternary\": [{\"marker\": {\"colorbar\": {\"outlinewidth\": 0, \"ticks\": \"\"}}, \"type\": \"scatterternary\"}], \"surface\": [{\"colorbar\": {\"outlinewidth\": 0, \"ticks\": \"\"}, \"colorscale\": [[0.0, \"#0d0887\"], [0.1111111111111111, \"#46039f\"], [0.2222222222222222, \"#7201a8\"], [0.3333333333333333, \"#9c179e\"], [0.4444444444444444, \"#bd3786\"], [0.5555555555555556, \"#d8576b\"], [0.6666666666666666, \"#ed7953\"], [0.7777777777777778, \"#fb9f3a\"], [0.8888888888888888, \"#fdca26\"], [1.0, \"#f0f921\"]], \"type\": \"surface\"}], \"table\": [{\"cells\": {\"fill\": {\"color\": \"#EBF0F8\"}, \"line\": {\"color\": \"white\"}}, \"header\": {\"fill\": {\"color\": \"#C8D4E3\"}, \"line\": {\"color\": \"white\"}}, \"type\": \"table\"}]}, \"layout\": {\"annotationdefaults\": {\"arrowcolor\": \"#2a3f5f\", \"arrowhead\": 0, \"arrowwidth\": 1}, \"coloraxis\": {\"colorbar\": {\"outlinewidth\": 0, \"ticks\": \"\"}}, \"colorscale\": {\"diverging\": [[0, \"#8e0152\"], [0.1, \"#c51b7d\"], [0.2, \"#de77ae\"], [0.3, \"#f1b6da\"], [0.4, \"#fde0ef\"], [0.5, \"#f7f7f7\"], [0.6, \"#e6f5d0\"], [0.7, \"#b8e186\"], [0.8, \"#7fbc41\"], [0.9, \"#4d9221\"], [1, \"#276419\"]], \"sequential\": [[0.0, \"#0d0887\"], [0.1111111111111111, \"#46039f\"], [0.2222222222222222, \"#7201a8\"], [0.3333333333333333, \"#9c179e\"], [0.4444444444444444, \"#bd3786\"], [0.5555555555555556, \"#d8576b\"], [0.6666666666666666, \"#ed7953\"], [0.7777777777777778, \"#fb9f3a\"], [0.8888888888888888, \"#fdca26\"], [1.0, \"#f0f921\"]], \"sequentialminus\": [[0.0, \"#0d0887\"], [0.1111111111111111, \"#46039f\"], [0.2222222222222222, \"#7201a8\"], [0.3333333333333333, \"#9c179e\"], [0.4444444444444444, \"#bd3786\"], [0.5555555555555556, \"#d8576b\"], [0.6666666666666666, \"#ed7953\"], [0.7777777777777778, \"#fb9f3a\"], [0.8888888888888888, \"#fdca26\"], [1.0, \"#f0f921\"]]}, \"colorway\": [\"#636efa\", \"#EF553B\", \"#00cc96\", \"#ab63fa\", \"#FFA15A\", \"#19d3f3\", \"#FF6692\", \"#B6E880\", \"#FF97FF\", \"#FECB52\"], \"font\": {\"color\": \"#2a3f5f\"}, \"geo\": {\"bgcolor\": \"white\", \"lakecolor\": \"white\", \"landcolor\": \"#E5ECF6\", \"showlakes\": true, \"showland\": true, \"subunitcolor\": \"white\"}, \"hoverlabel\": {\"align\": \"left\"}, \"hovermode\": \"closest\", \"mapbox\": {\"style\": \"light\"}, \"paper_bgcolor\": \"white\", \"plot_bgcolor\": \"#E5ECF6\", \"polar\": {\"angularaxis\": {\"gridcolor\": \"white\", \"linecolor\": \"white\", \"ticks\": \"\"}, \"bgcolor\": \"#E5ECF6\", \"radialaxis\": {\"gridcolor\": \"white\", \"linecolor\": \"white\", \"ticks\": \"\"}}, \"scene\": {\"xaxis\": {\"backgroundcolor\": \"#E5ECF6\", \"gridcolor\": \"white\", \"gridwidth\": 2, \"linecolor\": \"white\", \"showbackground\": true, \"ticks\": \"\", \"zerolinecolor\": \"white\"}, \"yaxis\": {\"backgroundcolor\": \"#E5ECF6\", \"gridcolor\": \"white\", \"gridwidth\": 2, \"linecolor\": \"white\", \"showbackground\": true, \"ticks\": \"\", \"zerolinecolor\": \"white\"}, \"zaxis\": {\"backgroundcolor\": \"#E5ECF6\", \"gridcolor\": \"white\", \"gridwidth\": 2, \"linecolor\": \"white\", \"showbackground\": true, \"ticks\": \"\", \"zerolinecolor\": \"white\"}}, \"shapedefaults\": {\"line\": {\"color\": \"#2a3f5f\"}}, \"ternary\": {\"aaxis\": {\"gridcolor\": \"white\", \"linecolor\": \"white\", \"ticks\": \"\"}, \"baxis\": {\"gridcolor\": \"white\", \"linecolor\": \"white\", \"ticks\": \"\"}, \"bgcolor\": \"#E5ECF6\", \"caxis\": {\"gridcolor\": \"white\", \"linecolor\": \"white\", \"ticks\": \"\"}}, \"title\": {\"x\": 0.05}, \"xaxis\": {\"automargin\": true, \"gridcolor\": \"white\", \"linecolor\": \"white\", \"ticks\": \"\", \"title\": {\"standoff\": 15}, \"zerolinecolor\": \"white\", \"zerolinewidth\": 2}, \"yaxis\": {\"automargin\": true, \"gridcolor\": \"white\", \"linecolor\": \"white\", \"ticks\": \"\", \"title\": {\"standoff\": 15}, \"zerolinecolor\": \"white\", \"zerolinewidth\": 2}}}, \"width\": 400, \"xaxis\": {\"anchor\": \"y\", \"domain\": [0.0, 1.0]}, \"yaxis\": {\"anchor\": \"x\", \"domain\": [0.0, 1.0], \"title\": {\"text\": \"largo_pico\"}}},\n",
              "                        {\"responsive\": true}\n",
              "                    ).then(function(){\n",
              "                            \n",
              "var gd = document.getElementById('66223e2e-5525-4bd2-a681-f8621c3f1ae5');\n",
              "var x = new MutationObserver(function (mutations, observer) {{\n",
              "        var display = window.getComputedStyle(gd).display;\n",
              "        if (!display || display === 'none') {{\n",
              "            console.log([gd, 'removed!']);\n",
              "            Plotly.purge(gd);\n",
              "            observer.disconnect();\n",
              "        }}\n",
              "}});\n",
              "\n",
              "// Listen for the removal of the full notebook cells\n",
              "var notebookContainer = gd.closest('#notebook-container');\n",
              "if (notebookContainer) {{\n",
              "    x.observe(notebookContainer, {childList: true});\n",
              "}}\n",
              "\n",
              "// Listen for the clearing of the current output cell\n",
              "var outputEl = gd.closest('.output');\n",
              "if (outputEl) {{\n",
              "    x.observe(outputEl, {childList: true});\n",
              "}}\n",
              "\n",
              "                        })\n",
              "                };\n",
              "                \n",
              "            </script>\n",
              "        </div>\n",
              "</body>\n",
              "</html>"
            ]
          },
          "metadata": {
            "tags": []
          }
        }
      ]
    },
    {
      "cell_type": "code",
      "metadata": {
        "id": "vzbjAz2ycc1n",
        "colab": {
          "base_uri": "https://localhost:8080/"
        },
        "outputId": "9ed8b2d8-e47d-491f-8f58-74491b977af8"
      },
      "source": [
        "px.box(datos,\n",
        "       y='ancho_pico',\n",
        "       width=400)"
      ],
      "execution_count": null,
      "outputs": [
        {
          "output_type": "display_data",
          "data": {
            "text/html": [
              "<html>\n",
              "<head><meta charset=\"utf-8\" /></head>\n",
              "<body>\n",
              "    <div>\n",
              "            <script src=\"https://cdnjs.cloudflare.com/ajax/libs/mathjax/2.7.5/MathJax.js?config=TeX-AMS-MML_SVG\"></script><script type=\"text/javascript\">if (window.MathJax) {MathJax.Hub.Config({SVG: {font: \"STIX-Web\"}});}</script>\n",
              "                <script type=\"text/javascript\">window.PlotlyConfig = {MathJaxConfig: 'local'};</script>\n",
              "        <script src=\"https://cdn.plot.ly/plotly-latest.min.js\"></script>    \n",
              "            <div id=\"43b7f2eb-fc82-4647-a20a-005347ac3ec2\" class=\"plotly-graph-div\" style=\"height:525px; width:400px;\"></div>\n",
              "            <script type=\"text/javascript\">\n",
              "                \n",
              "                    window.PLOTLYENV=window.PLOTLYENV || {};\n",
              "                    \n",
              "                if (document.getElementById(\"43b7f2eb-fc82-4647-a20a-005347ac3ec2\")) {\n",
              "                    Plotly.newPlot(\n",
              "                        '43b7f2eb-fc82-4647-a20a-005347ac3ec2',\n",
              "                        [{\"alignmentgroup\": \"True\", \"hoverlabel\": {\"namelength\": 0}, \"hovertemplate\": \"ancho_pico=%{y}\", \"legendgroup\": \"\", \"marker\": {\"color\": \"#636efa\"}, \"name\": \"\", \"notched\": false, \"offsetgroup\": \"\", \"orientation\": \"v\", \"showlegend\": false, \"type\": \"box\", \"x0\": \" \", \"xaxis\": \"x\", \"y\": [18.7, 17.4, 18.0, 17.15, 19.3, 20.6, 17.8, 19.6, 18.1, 20.2, 17.1, 17.3, 17.6, 21.2, 21.1, 17.8, 19.0, 20.7, 18.4, 21.5, 18.3, 18.7, 19.2, 18.1, 17.2, 18.9, 18.6, 17.9, 18.6, 18.9, 16.7, 18.1, 17.8, 18.9, 17.0, 21.1, 20.0, 18.5, 19.3, 19.1, 18.0, 18.4, 18.5, 19.7, 16.9, 18.8, 19.0, 18.9, 17.9, 21.2, 17.7, 18.9, 17.9, 19.5, 18.1, 18.6, 17.5, 18.8, 16.6, 19.1, 16.9, 21.1, 17.0, 18.2, 17.1, 18.0, 16.2, 19.1, 16.6, 19.4, 19.0, 18.4, 17.2, 18.9, 17.5, 18.5, 16.8, 19.4, 16.1, 19.1, 17.2, 17.6, 18.8, 19.4, 17.8, 20.3, 19.5, 18.6, 19.2, 18.8, 18.0, 18.1, 17.1, 18.1, 17.3, 18.9, 18.6, 18.5, 16.1, 18.5, 17.9, 20.0, 16.0, 20.0, 18.6, 18.9, 17.2, 20.0, 17.0, 19.0, 16.5, 20.3, 17.7, 19.5, 20.7, 18.3, 17.0, 20.5, 17.0, 18.6, 17.2, 19.8, 17.0, 18.5, 15.9, 19.0, 17.6, 18.3, 17.1, 18.0, 17.9, 19.2, 18.5, 18.5, 17.6, 17.5, 17.5, 20.1, 16.5, 17.9, 17.1, 17.2, 15.5, 17.0, 16.8, 18.7, 18.6, 18.4, 17.8, 18.1, 17.1, 18.5, 13.2, 16.3, 14.1, 15.2, 14.5, 13.5, 14.6, 15.3, 13.4, 15.4, 13.7, 16.1, 13.7, 14.6, 14.6, 15.7, 13.5, 15.2, 14.5, 15.1, 14.3, 14.5, 14.5, 15.8, 13.1, 15.1, 14.3, 15.0, 14.3, 15.3, 15.3, 14.2, 14.5, 17.0, 14.8, 16.3, 13.7, 17.3, 13.6, 15.7, 13.7, 16.0, 13.7, 15.0, 15.9, 13.9, 13.9, 15.9, 13.3, 15.8, 14.2, 14.1, 14.4, 15.0, 14.4, 15.4, 13.9, 15.0, 14.5, 15.3, 13.8, 14.9, 13.9, 15.7, 14.2, 16.8, 14.4, 16.2, 14.2, 15.0, 15.0, 15.6, 15.6, 14.8, 15.0, 16.0, 14.2, 16.3, 13.8, 16.4, 14.5, 15.6, 14.6, 15.9, 13.8, 17.3, 14.4, 14.2, 14.0, 17.0, 15.0, 17.1, 14.5, 16.1, 14.7, 15.7, 15.8, 14.6, 14.4, 16.5, 15.0, 17.0, 15.5, 15.0, 13.8, 16.1, 14.7, 15.8, 14.0, 15.1, 15.2, 15.9, 15.2, 16.3, 14.1, 16.0, 15.7, 16.2, 13.7, 17.15, 14.3, 15.7, 14.8, 16.1, 17.9, 19.5, 19.2, 18.7, 19.8, 17.8, 18.2, 18.2, 18.9, 19.9, 17.8, 20.3, 17.3, 18.1, 17.1, 19.6, 20.0, 17.8, 18.6, 18.2, 17.3, 17.5, 16.6, 19.4, 17.9, 19.0, 18.4, 19.0, 17.8, 20.0, 16.6, 20.8, 16.7, 18.8, 18.6, 16.8, 18.3, 20.7, 16.6, 19.9, 19.5, 17.5, 19.1, 17.0, 17.9, 18.5, 17.9, 19.6, 18.7, 17.3, 16.4, 19.0, 17.3, 19.7, 17.3, 18.8, 16.6, 19.9, 18.8, 19.4, 19.5, 16.5, 17.0, 19.8, 18.1, 18.2, 19.0, 18.7], \"y0\": \" \", \"yaxis\": \"y\"}],\n",
              "                        {\"boxmode\": \"group\", \"legend\": {\"tracegroupgap\": 0}, \"margin\": {\"t\": 60}, \"template\": {\"data\": {\"bar\": [{\"error_x\": {\"color\": \"#2a3f5f\"}, \"error_y\": {\"color\": \"#2a3f5f\"}, \"marker\": {\"line\": {\"color\": \"#E5ECF6\", \"width\": 0.5}}, \"type\": \"bar\"}], \"barpolar\": [{\"marker\": {\"line\": {\"color\": \"#E5ECF6\", \"width\": 0.5}}, \"type\": \"barpolar\"}], \"carpet\": [{\"aaxis\": {\"endlinecolor\": \"#2a3f5f\", \"gridcolor\": \"white\", \"linecolor\": \"white\", \"minorgridcolor\": \"white\", \"startlinecolor\": \"#2a3f5f\"}, \"baxis\": {\"endlinecolor\": \"#2a3f5f\", \"gridcolor\": \"white\", \"linecolor\": \"white\", \"minorgridcolor\": \"white\", \"startlinecolor\": \"#2a3f5f\"}, \"type\": \"carpet\"}], \"choropleth\": [{\"colorbar\": {\"outlinewidth\": 0, \"ticks\": \"\"}, \"type\": \"choropleth\"}], \"contour\": [{\"colorbar\": {\"outlinewidth\": 0, \"ticks\": \"\"}, \"colorscale\": [[0.0, \"#0d0887\"], [0.1111111111111111, \"#46039f\"], [0.2222222222222222, \"#7201a8\"], [0.3333333333333333, \"#9c179e\"], [0.4444444444444444, \"#bd3786\"], [0.5555555555555556, \"#d8576b\"], [0.6666666666666666, \"#ed7953\"], [0.7777777777777778, \"#fb9f3a\"], [0.8888888888888888, \"#fdca26\"], [1.0, \"#f0f921\"]], \"type\": \"contour\"}], \"contourcarpet\": [{\"colorbar\": {\"outlinewidth\": 0, \"ticks\": \"\"}, \"type\": \"contourcarpet\"}], \"heatmap\": [{\"colorbar\": {\"outlinewidth\": 0, \"ticks\": \"\"}, \"colorscale\": [[0.0, \"#0d0887\"], [0.1111111111111111, \"#46039f\"], [0.2222222222222222, \"#7201a8\"], [0.3333333333333333, \"#9c179e\"], [0.4444444444444444, \"#bd3786\"], [0.5555555555555556, \"#d8576b\"], [0.6666666666666666, \"#ed7953\"], [0.7777777777777778, \"#fb9f3a\"], [0.8888888888888888, \"#fdca26\"], [1.0, \"#f0f921\"]], \"type\": \"heatmap\"}], \"heatmapgl\": [{\"colorbar\": {\"outlinewidth\": 0, \"ticks\": \"\"}, \"colorscale\": [[0.0, \"#0d0887\"], [0.1111111111111111, \"#46039f\"], [0.2222222222222222, \"#7201a8\"], [0.3333333333333333, \"#9c179e\"], [0.4444444444444444, \"#bd3786\"], [0.5555555555555556, \"#d8576b\"], [0.6666666666666666, \"#ed7953\"], [0.7777777777777778, \"#fb9f3a\"], [0.8888888888888888, \"#fdca26\"], [1.0, \"#f0f921\"]], \"type\": \"heatmapgl\"}], \"histogram\": [{\"marker\": {\"colorbar\": {\"outlinewidth\": 0, \"ticks\": \"\"}}, \"type\": \"histogram\"}], \"histogram2d\": [{\"colorbar\": {\"outlinewidth\": 0, \"ticks\": \"\"}, \"colorscale\": [[0.0, \"#0d0887\"], [0.1111111111111111, \"#46039f\"], [0.2222222222222222, \"#7201a8\"], [0.3333333333333333, \"#9c179e\"], [0.4444444444444444, \"#bd3786\"], [0.5555555555555556, \"#d8576b\"], [0.6666666666666666, \"#ed7953\"], [0.7777777777777778, \"#fb9f3a\"], [0.8888888888888888, \"#fdca26\"], [1.0, \"#f0f921\"]], \"type\": \"histogram2d\"}], \"histogram2dcontour\": [{\"colorbar\": {\"outlinewidth\": 0, \"ticks\": \"\"}, \"colorscale\": [[0.0, \"#0d0887\"], [0.1111111111111111, \"#46039f\"], [0.2222222222222222, \"#7201a8\"], [0.3333333333333333, \"#9c179e\"], [0.4444444444444444, \"#bd3786\"], [0.5555555555555556, \"#d8576b\"], [0.6666666666666666, \"#ed7953\"], [0.7777777777777778, \"#fb9f3a\"], [0.8888888888888888, \"#fdca26\"], [1.0, \"#f0f921\"]], \"type\": \"histogram2dcontour\"}], \"mesh3d\": [{\"colorbar\": {\"outlinewidth\": 0, \"ticks\": \"\"}, \"type\": \"mesh3d\"}], \"parcoords\": [{\"line\": {\"colorbar\": {\"outlinewidth\": 0, \"ticks\": \"\"}}, \"type\": \"parcoords\"}], \"pie\": [{\"automargin\": true, \"type\": \"pie\"}], \"scatter\": [{\"marker\": {\"colorbar\": {\"outlinewidth\": 0, \"ticks\": \"\"}}, \"type\": \"scatter\"}], \"scatter3d\": [{\"line\": {\"colorbar\": {\"outlinewidth\": 0, \"ticks\": \"\"}}, \"marker\": {\"colorbar\": {\"outlinewidth\": 0, \"ticks\": \"\"}}, \"type\": \"scatter3d\"}], \"scattercarpet\": [{\"marker\": {\"colorbar\": {\"outlinewidth\": 0, \"ticks\": \"\"}}, \"type\": \"scattercarpet\"}], \"scattergeo\": [{\"marker\": {\"colorbar\": {\"outlinewidth\": 0, \"ticks\": \"\"}}, \"type\": \"scattergeo\"}], \"scattergl\": [{\"marker\": {\"colorbar\": {\"outlinewidth\": 0, \"ticks\": \"\"}}, \"type\": \"scattergl\"}], \"scattermapbox\": [{\"marker\": {\"colorbar\": {\"outlinewidth\": 0, \"ticks\": \"\"}}, \"type\": \"scattermapbox\"}], \"scatterpolar\": [{\"marker\": {\"colorbar\": {\"outlinewidth\": 0, \"ticks\": \"\"}}, \"type\": \"scatterpolar\"}], \"scatterpolargl\": [{\"marker\": {\"colorbar\": {\"outlinewidth\": 0, \"ticks\": \"\"}}, \"type\": \"scatterpolargl\"}], \"scatterternary\": [{\"marker\": {\"colorbar\": {\"outlinewidth\": 0, \"ticks\": \"\"}}, \"type\": \"scatterternary\"}], \"surface\": [{\"colorbar\": {\"outlinewidth\": 0, \"ticks\": \"\"}, \"colorscale\": [[0.0, \"#0d0887\"], [0.1111111111111111, \"#46039f\"], [0.2222222222222222, \"#7201a8\"], [0.3333333333333333, \"#9c179e\"], [0.4444444444444444, \"#bd3786\"], [0.5555555555555556, \"#d8576b\"], [0.6666666666666666, \"#ed7953\"], [0.7777777777777778, \"#fb9f3a\"], [0.8888888888888888, \"#fdca26\"], [1.0, \"#f0f921\"]], \"type\": \"surface\"}], \"table\": [{\"cells\": {\"fill\": {\"color\": \"#EBF0F8\"}, \"line\": {\"color\": \"white\"}}, \"header\": {\"fill\": {\"color\": \"#C8D4E3\"}, \"line\": {\"color\": \"white\"}}, \"type\": \"table\"}]}, \"layout\": {\"annotationdefaults\": {\"arrowcolor\": \"#2a3f5f\", \"arrowhead\": 0, \"arrowwidth\": 1}, \"coloraxis\": {\"colorbar\": {\"outlinewidth\": 0, \"ticks\": \"\"}}, \"colorscale\": {\"diverging\": [[0, \"#8e0152\"], [0.1, \"#c51b7d\"], [0.2, \"#de77ae\"], [0.3, \"#f1b6da\"], [0.4, \"#fde0ef\"], [0.5, \"#f7f7f7\"], [0.6, \"#e6f5d0\"], [0.7, \"#b8e186\"], [0.8, \"#7fbc41\"], [0.9, \"#4d9221\"], [1, \"#276419\"]], \"sequential\": [[0.0, \"#0d0887\"], [0.1111111111111111, \"#46039f\"], [0.2222222222222222, \"#7201a8\"], [0.3333333333333333, \"#9c179e\"], [0.4444444444444444, \"#bd3786\"], [0.5555555555555556, \"#d8576b\"], [0.6666666666666666, \"#ed7953\"], [0.7777777777777778, \"#fb9f3a\"], [0.8888888888888888, \"#fdca26\"], [1.0, \"#f0f921\"]], \"sequentialminus\": [[0.0, \"#0d0887\"], [0.1111111111111111, \"#46039f\"], [0.2222222222222222, \"#7201a8\"], [0.3333333333333333, \"#9c179e\"], [0.4444444444444444, \"#bd3786\"], [0.5555555555555556, \"#d8576b\"], [0.6666666666666666, \"#ed7953\"], [0.7777777777777778, \"#fb9f3a\"], [0.8888888888888888, \"#fdca26\"], [1.0, \"#f0f921\"]]}, \"colorway\": [\"#636efa\", \"#EF553B\", \"#00cc96\", \"#ab63fa\", \"#FFA15A\", \"#19d3f3\", \"#FF6692\", \"#B6E880\", \"#FF97FF\", \"#FECB52\"], \"font\": {\"color\": \"#2a3f5f\"}, \"geo\": {\"bgcolor\": \"white\", \"lakecolor\": \"white\", \"landcolor\": \"#E5ECF6\", \"showlakes\": true, \"showland\": true, \"subunitcolor\": \"white\"}, \"hoverlabel\": {\"align\": \"left\"}, \"hovermode\": \"closest\", \"mapbox\": {\"style\": \"light\"}, \"paper_bgcolor\": \"white\", \"plot_bgcolor\": \"#E5ECF6\", \"polar\": {\"angularaxis\": {\"gridcolor\": \"white\", \"linecolor\": \"white\", \"ticks\": \"\"}, \"bgcolor\": \"#E5ECF6\", \"radialaxis\": {\"gridcolor\": \"white\", \"linecolor\": \"white\", \"ticks\": \"\"}}, \"scene\": {\"xaxis\": {\"backgroundcolor\": \"#E5ECF6\", \"gridcolor\": \"white\", \"gridwidth\": 2, \"linecolor\": \"white\", \"showbackground\": true, \"ticks\": \"\", \"zerolinecolor\": \"white\"}, \"yaxis\": {\"backgroundcolor\": \"#E5ECF6\", \"gridcolor\": \"white\", \"gridwidth\": 2, \"linecolor\": \"white\", \"showbackground\": true, \"ticks\": \"\", \"zerolinecolor\": \"white\"}, \"zaxis\": {\"backgroundcolor\": \"#E5ECF6\", \"gridcolor\": \"white\", \"gridwidth\": 2, \"linecolor\": \"white\", \"showbackground\": true, \"ticks\": \"\", \"zerolinecolor\": \"white\"}}, \"shapedefaults\": {\"line\": {\"color\": \"#2a3f5f\"}}, \"ternary\": {\"aaxis\": {\"gridcolor\": \"white\", \"linecolor\": \"white\", \"ticks\": \"\"}, \"baxis\": {\"gridcolor\": \"white\", \"linecolor\": \"white\", \"ticks\": \"\"}, \"bgcolor\": \"#E5ECF6\", \"caxis\": {\"gridcolor\": \"white\", \"linecolor\": \"white\", \"ticks\": \"\"}}, \"title\": {\"x\": 0.05}, \"xaxis\": {\"automargin\": true, \"gridcolor\": \"white\", \"linecolor\": \"white\", \"ticks\": \"\", \"title\": {\"standoff\": 15}, \"zerolinecolor\": \"white\", \"zerolinewidth\": 2}, \"yaxis\": {\"automargin\": true, \"gridcolor\": \"white\", \"linecolor\": \"white\", \"ticks\": \"\", \"title\": {\"standoff\": 15}, \"zerolinecolor\": \"white\", \"zerolinewidth\": 2}}}, \"width\": 400, \"xaxis\": {\"anchor\": \"y\", \"domain\": [0.0, 1.0]}, \"yaxis\": {\"anchor\": \"x\", \"domain\": [0.0, 1.0], \"title\": {\"text\": \"ancho_pico\"}}},\n",
              "                        {\"responsive\": true}\n",
              "                    ).then(function(){\n",
              "                            \n",
              "var gd = document.getElementById('43b7f2eb-fc82-4647-a20a-005347ac3ec2');\n",
              "var x = new MutationObserver(function (mutations, observer) {{\n",
              "        var display = window.getComputedStyle(gd).display;\n",
              "        if (!display || display === 'none') {{\n",
              "            console.log([gd, 'removed!']);\n",
              "            Plotly.purge(gd);\n",
              "            observer.disconnect();\n",
              "        }}\n",
              "}});\n",
              "\n",
              "// Listen for the removal of the full notebook cells\n",
              "var notebookContainer = gd.closest('#notebook-container');\n",
              "if (notebookContainer) {{\n",
              "    x.observe(notebookContainer, {childList: true});\n",
              "}}\n",
              "\n",
              "// Listen for the clearing of the current output cell\n",
              "var outputEl = gd.closest('.output');\n",
              "if (outputEl) {{\n",
              "    x.observe(outputEl, {childList: true});\n",
              "}}\n",
              "\n",
              "                        })\n",
              "                };\n",
              "                \n",
              "            </script>\n",
              "        </div>\n",
              "</body>\n",
              "</html>"
            ]
          },
          "metadata": {
            "tags": []
          }
        }
      ]
    },
    {
      "cell_type": "code",
      "metadata": {
        "id": "RODNZF3Z5Mf4",
        "colab": {
          "base_uri": "https://localhost:8080/"
        },
        "outputId": "cc5d2297-9577-4167-d5d8-995fdc7b0f86"
      },
      "source": [
        "px.box(datos,\n",
        "       y='masa_corporal',\n",
        "       width=400)"
      ],
      "execution_count": null,
      "outputs": [
        {
          "output_type": "display_data",
          "data": {
            "text/html": [
              "<html>\n",
              "<head><meta charset=\"utf-8\" /></head>\n",
              "<body>\n",
              "    <div>\n",
              "            <script src=\"https://cdnjs.cloudflare.com/ajax/libs/mathjax/2.7.5/MathJax.js?config=TeX-AMS-MML_SVG\"></script><script type=\"text/javascript\">if (window.MathJax) {MathJax.Hub.Config({SVG: {font: \"STIX-Web\"}});}</script>\n",
              "                <script type=\"text/javascript\">window.PlotlyConfig = {MathJaxConfig: 'local'};</script>\n",
              "        <script src=\"https://cdn.plot.ly/plotly-latest.min.js\"></script>    \n",
              "            <div id=\"84dccea6-b4b5-40d6-b5a6-debf2b556137\" class=\"plotly-graph-div\" style=\"height:525px; width:400px;\"></div>\n",
              "            <script type=\"text/javascript\">\n",
              "                \n",
              "                    window.PLOTLYENV=window.PLOTLYENV || {};\n",
              "                    \n",
              "                if (document.getElementById(\"84dccea6-b4b5-40d6-b5a6-debf2b556137\")) {\n",
              "                    Plotly.newPlot(\n",
              "                        '84dccea6-b4b5-40d6-b5a6-debf2b556137',\n",
              "                        [{\"alignmentgroup\": \"True\", \"hoverlabel\": {\"namelength\": 0}, \"hovertemplate\": \"masa_corporal=%{y}\", \"legendgroup\": \"\", \"marker\": {\"color\": \"#636efa\"}, \"name\": \"\", \"notched\": false, \"offsetgroup\": \"\", \"orientation\": \"v\", \"showlegend\": false, \"type\": \"box\", \"x0\": \" \", \"xaxis\": \"x\", \"y\": [3750.0, 3800.0, 3250.0, 4201.7, 3450.0, 3650.0, 3625.0, 4675.0, 3475.0, 4250.0, 3300.0, 3700.0, 3200.0, 3800.0, 4400.0, 3700.0, 3450.0, 4500.0, 3325.0, 4200.0, 3400.0, 3600.0, 3800.0, 3950.0, 3800.0, 3800.0, 3550.0, 3200.0, 3150.0, 3950.0, 3250.0, 3900.0, 3300.0, 3900.0, 3325.0, 4150.0, 3950.0, 3550.0, 3300.0, 4650.0, 3150.0, 3900.0, 3100.0, 4400.0, 3000.0, 4600.0, 3425.0, 2975.0, 3450.0, 4150.0, 3500.0, 4300.0, 3450.0, 4050.0, 2900.0, 3700.0, 3550.0, 3800.0, 2850.0, 3750.0, 3150.0, 4400.0, 3600.0, 4050.0, 2850.0, 3950.0, 3350.0, 4100.0, 3050.0, 4450.0, 3600.0, 3900.0, 3550.0, 4150.0, 3700.0, 4250.0, 3700.0, 3900.0, 3550.0, 4000.0, 3200.0, 4700.0, 3800.0, 4200.0, 3350.0, 3550.0, 3800.0, 3500.0, 3950.0, 3600.0, 3550.0, 4300.0, 3400.0, 4450.0, 3300.0, 4300.0, 3700.0, 4350.0, 2900.0, 4100.0, 3725.0, 4725.0, 3075.0, 4250.0, 2925.0, 3550.0, 3750.0, 3900.0, 3175.0, 4775.0, 3825.0, 4600.0, 3200.0, 4275.0, 3900.0, 4075.0, 2900.0, 3775.0, 3350.0, 3325.0, 3150.0, 3500.0, 3450.0, 3875.0, 3050.0, 4000.0, 3275.0, 4300.0, 3050.0, 4000.0, 3325.0, 3500.0, 3500.0, 4475.0, 3425.0, 3900.0, 3175.0, 3975.0, 3400.0, 4250.0, 3400.0, 3475.0, 3050.0, 3725.0, 3000.0, 3650.0, 4250.0, 3475.0, 3450.0, 3750.0, 3700.0, 4000.0, 4500.0, 5700.0, 4450.0, 5700.0, 5400.0, 4550.0, 4800.0, 5200.0, 4400.0, 5150.0, 4650.0, 5550.0, 4650.0, 5850.0, 4200.0, 5850.0, 4150.0, 6300.0, 4800.0, 5350.0, 5700.0, 5000.0, 4400.0, 5050.0, 5000.0, 5100.0, 4100.0, 5650.0, 4600.0, 5550.0, 5250.0, 4700.0, 5050.0, 6050.0, 5150.0, 5400.0, 4950.0, 5250.0, 4350.0, 5350.0, 3950.0, 5700.0, 4300.0, 4750.0, 5550.0, 4900.0, 4200.0, 5400.0, 5100.0, 5300.0, 4850.0, 5300.0, 4400.0, 5000.0, 4900.0, 5050.0, 4300.0, 5000.0, 4450.0, 5550.0, 4200.0, 5300.0, 4400.0, 5650.0, 4700.0, 5700.0, 4650.0, 5800.0, 4700.0, 5550.0, 4750.0, 5000.0, 5100.0, 5200.0, 4700.0, 5800.0, 4600.0, 6000.0, 4750.0, 5950.0, 4625.0, 5450.0, 4725.0, 5350.0, 4750.0, 5600.0, 4600.0, 5300.0, 4875.0, 5550.0, 4950.0, 5400.0, 4750.0, 5650.0, 4850.0, 5200.0, 4925.0, 4875.0, 4625.0, 5250.0, 4850.0, 5600.0, 4975.0, 5500.0, 4725.0, 5500.0, 4700.0, 5500.0, 4575.0, 5500.0, 5000.0, 5950.0, 4650.0, 5500.0, 4375.0, 5850.0, 4875.0, 6000.0, 4925.0, 4201.7, 4850.0, 5750.0, 5200.0, 5400.0, 3500.0, 3900.0, 3650.0, 3525.0, 3725.0, 3950.0, 3250.0, 3750.0, 4150.0, 3700.0, 3800.0, 3775.0, 3700.0, 4050.0, 3575.0, 4050.0, 3300.0, 3700.0, 3450.0, 4400.0, 3600.0, 3400.0, 2900.0, 3800.0, 3300.0, 4150.0, 3400.0, 3800.0, 3700.0, 4550.0, 3200.0, 4300.0, 3350.0, 4100.0, 3600.0, 3900.0, 3850.0, 4800.0, 2700.0, 4500.0, 3950.0, 3650.0, 3550.0, 3500.0, 3675.0, 4450.0, 3400.0, 4300.0, 3250.0, 3675.0, 3325.0, 3950.0, 3600.0, 4050.0, 3350.0, 3450.0, 3250.0, 4050.0, 3800.0, 3525.0, 3950.0, 3650.0, 3650.0, 4000.0, 3400.0, 3775.0, 4100.0, 3775.0], \"y0\": \" \", \"yaxis\": \"y\"}],\n",
              "                        {\"boxmode\": \"group\", \"legend\": {\"tracegroupgap\": 0}, \"margin\": {\"t\": 60}, \"template\": {\"data\": {\"bar\": [{\"error_x\": {\"color\": \"#2a3f5f\"}, \"error_y\": {\"color\": \"#2a3f5f\"}, \"marker\": {\"line\": {\"color\": \"#E5ECF6\", \"width\": 0.5}}, \"type\": \"bar\"}], \"barpolar\": [{\"marker\": {\"line\": {\"color\": \"#E5ECF6\", \"width\": 0.5}}, \"type\": \"barpolar\"}], \"carpet\": [{\"aaxis\": {\"endlinecolor\": \"#2a3f5f\", \"gridcolor\": \"white\", \"linecolor\": \"white\", \"minorgridcolor\": \"white\", \"startlinecolor\": \"#2a3f5f\"}, \"baxis\": {\"endlinecolor\": \"#2a3f5f\", \"gridcolor\": \"white\", \"linecolor\": \"white\", \"minorgridcolor\": \"white\", \"startlinecolor\": \"#2a3f5f\"}, \"type\": \"carpet\"}], \"choropleth\": [{\"colorbar\": {\"outlinewidth\": 0, \"ticks\": \"\"}, \"type\": \"choropleth\"}], \"contour\": [{\"colorbar\": {\"outlinewidth\": 0, \"ticks\": \"\"}, \"colorscale\": [[0.0, \"#0d0887\"], [0.1111111111111111, \"#46039f\"], [0.2222222222222222, \"#7201a8\"], [0.3333333333333333, \"#9c179e\"], [0.4444444444444444, \"#bd3786\"], [0.5555555555555556, \"#d8576b\"], [0.6666666666666666, \"#ed7953\"], [0.7777777777777778, \"#fb9f3a\"], [0.8888888888888888, \"#fdca26\"], [1.0, \"#f0f921\"]], \"type\": \"contour\"}], \"contourcarpet\": [{\"colorbar\": {\"outlinewidth\": 0, \"ticks\": \"\"}, \"type\": \"contourcarpet\"}], \"heatmap\": [{\"colorbar\": {\"outlinewidth\": 0, \"ticks\": \"\"}, \"colorscale\": [[0.0, \"#0d0887\"], [0.1111111111111111, \"#46039f\"], [0.2222222222222222, \"#7201a8\"], [0.3333333333333333, \"#9c179e\"], [0.4444444444444444, \"#bd3786\"], [0.5555555555555556, \"#d8576b\"], [0.6666666666666666, \"#ed7953\"], [0.7777777777777778, \"#fb9f3a\"], [0.8888888888888888, \"#fdca26\"], [1.0, \"#f0f921\"]], \"type\": \"heatmap\"}], \"heatmapgl\": [{\"colorbar\": {\"outlinewidth\": 0, \"ticks\": \"\"}, \"colorscale\": [[0.0, \"#0d0887\"], [0.1111111111111111, \"#46039f\"], [0.2222222222222222, \"#7201a8\"], [0.3333333333333333, \"#9c179e\"], [0.4444444444444444, \"#bd3786\"], [0.5555555555555556, \"#d8576b\"], [0.6666666666666666, \"#ed7953\"], [0.7777777777777778, \"#fb9f3a\"], [0.8888888888888888, \"#fdca26\"], [1.0, \"#f0f921\"]], \"type\": \"heatmapgl\"}], \"histogram\": [{\"marker\": {\"colorbar\": {\"outlinewidth\": 0, \"ticks\": \"\"}}, \"type\": \"histogram\"}], \"histogram2d\": [{\"colorbar\": {\"outlinewidth\": 0, \"ticks\": \"\"}, \"colorscale\": [[0.0, \"#0d0887\"], [0.1111111111111111, \"#46039f\"], [0.2222222222222222, \"#7201a8\"], [0.3333333333333333, \"#9c179e\"], [0.4444444444444444, \"#bd3786\"], [0.5555555555555556, \"#d8576b\"], [0.6666666666666666, \"#ed7953\"], [0.7777777777777778, \"#fb9f3a\"], [0.8888888888888888, \"#fdca26\"], [1.0, \"#f0f921\"]], \"type\": \"histogram2d\"}], \"histogram2dcontour\": [{\"colorbar\": {\"outlinewidth\": 0, \"ticks\": \"\"}, \"colorscale\": [[0.0, \"#0d0887\"], [0.1111111111111111, \"#46039f\"], [0.2222222222222222, \"#7201a8\"], [0.3333333333333333, \"#9c179e\"], [0.4444444444444444, \"#bd3786\"], [0.5555555555555556, \"#d8576b\"], [0.6666666666666666, \"#ed7953\"], [0.7777777777777778, \"#fb9f3a\"], [0.8888888888888888, \"#fdca26\"], [1.0, \"#f0f921\"]], \"type\": \"histogram2dcontour\"}], \"mesh3d\": [{\"colorbar\": {\"outlinewidth\": 0, \"ticks\": \"\"}, \"type\": \"mesh3d\"}], \"parcoords\": [{\"line\": {\"colorbar\": {\"outlinewidth\": 0, \"ticks\": \"\"}}, \"type\": \"parcoords\"}], \"pie\": [{\"automargin\": true, \"type\": \"pie\"}], \"scatter\": [{\"marker\": {\"colorbar\": {\"outlinewidth\": 0, \"ticks\": \"\"}}, \"type\": \"scatter\"}], \"scatter3d\": [{\"line\": {\"colorbar\": {\"outlinewidth\": 0, \"ticks\": \"\"}}, \"marker\": {\"colorbar\": {\"outlinewidth\": 0, \"ticks\": \"\"}}, \"type\": \"scatter3d\"}], \"scattercarpet\": [{\"marker\": {\"colorbar\": {\"outlinewidth\": 0, \"ticks\": \"\"}}, \"type\": \"scattercarpet\"}], \"scattergeo\": [{\"marker\": {\"colorbar\": {\"outlinewidth\": 0, \"ticks\": \"\"}}, \"type\": \"scattergeo\"}], \"scattergl\": [{\"marker\": {\"colorbar\": {\"outlinewidth\": 0, \"ticks\": \"\"}}, \"type\": \"scattergl\"}], \"scattermapbox\": [{\"marker\": {\"colorbar\": {\"outlinewidth\": 0, \"ticks\": \"\"}}, \"type\": \"scattermapbox\"}], \"scatterpolar\": [{\"marker\": {\"colorbar\": {\"outlinewidth\": 0, \"ticks\": \"\"}}, \"type\": \"scatterpolar\"}], \"scatterpolargl\": [{\"marker\": {\"colorbar\": {\"outlinewidth\": 0, \"ticks\": \"\"}}, \"type\": \"scatterpolargl\"}], \"scatterternary\": [{\"marker\": {\"colorbar\": {\"outlinewidth\": 0, \"ticks\": \"\"}}, \"type\": \"scatterternary\"}], \"surface\": [{\"colorbar\": {\"outlinewidth\": 0, \"ticks\": \"\"}, \"colorscale\": [[0.0, \"#0d0887\"], [0.1111111111111111, \"#46039f\"], [0.2222222222222222, \"#7201a8\"], [0.3333333333333333, \"#9c179e\"], [0.4444444444444444, \"#bd3786\"], [0.5555555555555556, \"#d8576b\"], [0.6666666666666666, \"#ed7953\"], [0.7777777777777778, \"#fb9f3a\"], [0.8888888888888888, \"#fdca26\"], [1.0, \"#f0f921\"]], \"type\": \"surface\"}], \"table\": [{\"cells\": {\"fill\": {\"color\": \"#EBF0F8\"}, \"line\": {\"color\": \"white\"}}, \"header\": {\"fill\": {\"color\": \"#C8D4E3\"}, \"line\": {\"color\": \"white\"}}, \"type\": \"table\"}]}, \"layout\": {\"annotationdefaults\": {\"arrowcolor\": \"#2a3f5f\", \"arrowhead\": 0, \"arrowwidth\": 1}, \"coloraxis\": {\"colorbar\": {\"outlinewidth\": 0, \"ticks\": \"\"}}, \"colorscale\": {\"diverging\": [[0, \"#8e0152\"], [0.1, \"#c51b7d\"], [0.2, \"#de77ae\"], [0.3, \"#f1b6da\"], [0.4, \"#fde0ef\"], [0.5, \"#f7f7f7\"], [0.6, \"#e6f5d0\"], [0.7, \"#b8e186\"], [0.8, \"#7fbc41\"], [0.9, \"#4d9221\"], [1, \"#276419\"]], \"sequential\": [[0.0, \"#0d0887\"], [0.1111111111111111, \"#46039f\"], [0.2222222222222222, \"#7201a8\"], [0.3333333333333333, \"#9c179e\"], [0.4444444444444444, \"#bd3786\"], [0.5555555555555556, \"#d8576b\"], [0.6666666666666666, \"#ed7953\"], [0.7777777777777778, \"#fb9f3a\"], [0.8888888888888888, \"#fdca26\"], [1.0, \"#f0f921\"]], \"sequentialminus\": [[0.0, \"#0d0887\"], [0.1111111111111111, \"#46039f\"], [0.2222222222222222, \"#7201a8\"], [0.3333333333333333, \"#9c179e\"], [0.4444444444444444, \"#bd3786\"], [0.5555555555555556, \"#d8576b\"], [0.6666666666666666, \"#ed7953\"], [0.7777777777777778, \"#fb9f3a\"], [0.8888888888888888, \"#fdca26\"], [1.0, \"#f0f921\"]]}, \"colorway\": [\"#636efa\", \"#EF553B\", \"#00cc96\", \"#ab63fa\", \"#FFA15A\", \"#19d3f3\", \"#FF6692\", \"#B6E880\", \"#FF97FF\", \"#FECB52\"], \"font\": {\"color\": \"#2a3f5f\"}, \"geo\": {\"bgcolor\": \"white\", \"lakecolor\": \"white\", \"landcolor\": \"#E5ECF6\", \"showlakes\": true, \"showland\": true, \"subunitcolor\": \"white\"}, \"hoverlabel\": {\"align\": \"left\"}, \"hovermode\": \"closest\", \"mapbox\": {\"style\": \"light\"}, \"paper_bgcolor\": \"white\", \"plot_bgcolor\": \"#E5ECF6\", \"polar\": {\"angularaxis\": {\"gridcolor\": \"white\", \"linecolor\": \"white\", \"ticks\": \"\"}, \"bgcolor\": \"#E5ECF6\", \"radialaxis\": {\"gridcolor\": \"white\", \"linecolor\": \"white\", \"ticks\": \"\"}}, \"scene\": {\"xaxis\": {\"backgroundcolor\": \"#E5ECF6\", \"gridcolor\": \"white\", \"gridwidth\": 2, \"linecolor\": \"white\", \"showbackground\": true, \"ticks\": \"\", \"zerolinecolor\": \"white\"}, \"yaxis\": {\"backgroundcolor\": \"#E5ECF6\", \"gridcolor\": \"white\", \"gridwidth\": 2, \"linecolor\": \"white\", \"showbackground\": true, \"ticks\": \"\", \"zerolinecolor\": \"white\"}, \"zaxis\": {\"backgroundcolor\": \"#E5ECF6\", \"gridcolor\": \"white\", \"gridwidth\": 2, \"linecolor\": \"white\", \"showbackground\": true, \"ticks\": \"\", \"zerolinecolor\": \"white\"}}, \"shapedefaults\": {\"line\": {\"color\": \"#2a3f5f\"}}, \"ternary\": {\"aaxis\": {\"gridcolor\": \"white\", \"linecolor\": \"white\", \"ticks\": \"\"}, \"baxis\": {\"gridcolor\": \"white\", \"linecolor\": \"white\", \"ticks\": \"\"}, \"bgcolor\": \"#E5ECF6\", \"caxis\": {\"gridcolor\": \"white\", \"linecolor\": \"white\", \"ticks\": \"\"}}, \"title\": {\"x\": 0.05}, \"xaxis\": {\"automargin\": true, \"gridcolor\": \"white\", \"linecolor\": \"white\", \"ticks\": \"\", \"title\": {\"standoff\": 15}, \"zerolinecolor\": \"white\", \"zerolinewidth\": 2}, \"yaxis\": {\"automargin\": true, \"gridcolor\": \"white\", \"linecolor\": \"white\", \"ticks\": \"\", \"title\": {\"standoff\": 15}, \"zerolinecolor\": \"white\", \"zerolinewidth\": 2}}}, \"width\": 400, \"xaxis\": {\"anchor\": \"y\", \"domain\": [0.0, 1.0]}, \"yaxis\": {\"anchor\": \"x\", \"domain\": [0.0, 1.0], \"title\": {\"text\": \"masa_corporal\"}}},\n",
              "                        {\"responsive\": true}\n",
              "                    ).then(function(){\n",
              "                            \n",
              "var gd = document.getElementById('84dccea6-b4b5-40d6-b5a6-debf2b556137');\n",
              "var x = new MutationObserver(function (mutations, observer) {{\n",
              "        var display = window.getComputedStyle(gd).display;\n",
              "        if (!display || display === 'none') {{\n",
              "            console.log([gd, 'removed!']);\n",
              "            Plotly.purge(gd);\n",
              "            observer.disconnect();\n",
              "        }}\n",
              "}});\n",
              "\n",
              "// Listen for the removal of the full notebook cells\n",
              "var notebookContainer = gd.closest('#notebook-container');\n",
              "if (notebookContainer) {{\n",
              "    x.observe(notebookContainer, {childList: true});\n",
              "}}\n",
              "\n",
              "// Listen for the clearing of the current output cell\n",
              "var outputEl = gd.closest('.output');\n",
              "if (outputEl) {{\n",
              "    x.observe(outputEl, {childList: true});\n",
              "}}\n",
              "\n",
              "                        })\n",
              "                };\n",
              "                \n",
              "            </script>\n",
              "        </div>\n",
              "</body>\n",
              "</html>"
            ]
          },
          "metadata": {
            "tags": []
          }
        }
      ]
    },
    {
      "cell_type": "code",
      "metadata": {
        "id": "p_LOM64qcaRs"
      },
      "source": [],
      "execution_count": null,
      "outputs": []
    },
    {
      "cell_type": "markdown",
      "metadata": {
        "id": "UMuyOV6KCWLv"
      },
      "source": [
        "### Variables categóricas"
      ]
    },
    {
      "cell_type": "markdown",
      "metadata": {
        "id": "3oSdwS427Ac6"
      },
      "source": [
        "- Primer metodo para transformar\n",
        "\n",
        "<img src=\"https://etlpoint.com/wp-content/uploads/2020/07/77.png\" height=\"200\" />"
      ]
    },
    {
      "cell_type": "code",
      "metadata": {
        "id": "2anWkTbFCa8p",
        "colab": {
          "base_uri": "https://localhost:8080/"
        },
        "outputId": "1a7a748a-baa2-4eb7-dcba-412b9b6bd6ae"
      },
      "source": [
        "datos=pd.get_dummies(datos, columns=['sexo'])\n",
        "datos"
      ],
      "execution_count": null,
      "outputs": [
        {
          "output_type": "execute_result",
          "data": {
            "text/html": [
              "<div>\n",
              "<style scoped>\n",
              "    .dataframe tbody tr th:only-of-type {\n",
              "        vertical-align: middle;\n",
              "    }\n",
              "\n",
              "    .dataframe tbody tr th {\n",
              "        vertical-align: top;\n",
              "    }\n",
              "\n",
              "    .dataframe thead th {\n",
              "        text-align: right;\n",
              "    }\n",
              "</style>\n",
              "<table border=\"1\" class=\"dataframe\">\n",
              "  <thead>\n",
              "    <tr style=\"text-align: right;\">\n",
              "      <th></th>\n",
              "      <th>especie</th>\n",
              "      <th>isla</th>\n",
              "      <th>largo_pico</th>\n",
              "      <th>ancho_pico</th>\n",
              "      <th>largo_aleta</th>\n",
              "      <th>masa_corporal</th>\n",
              "      <th>sexo_female</th>\n",
              "      <th>sexo_male</th>\n",
              "    </tr>\n",
              "  </thead>\n",
              "  <tbody>\n",
              "    <tr>\n",
              "      <th>0</th>\n",
              "      <td>Adelie</td>\n",
              "      <td>Torgersen</td>\n",
              "      <td>39.1</td>\n",
              "      <td>18.70</td>\n",
              "      <td>181.0</td>\n",
              "      <td>3750.0</td>\n",
              "      <td>0</td>\n",
              "      <td>1</td>\n",
              "    </tr>\n",
              "    <tr>\n",
              "      <th>1</th>\n",
              "      <td>Adelie</td>\n",
              "      <td>Torgersen</td>\n",
              "      <td>39.5</td>\n",
              "      <td>17.40</td>\n",
              "      <td>186.0</td>\n",
              "      <td>3800.0</td>\n",
              "      <td>1</td>\n",
              "      <td>0</td>\n",
              "    </tr>\n",
              "    <tr>\n",
              "      <th>2</th>\n",
              "      <td>Adelie</td>\n",
              "      <td>Torgersen</td>\n",
              "      <td>40.3</td>\n",
              "      <td>18.00</td>\n",
              "      <td>195.0</td>\n",
              "      <td>3250.0</td>\n",
              "      <td>1</td>\n",
              "      <td>0</td>\n",
              "    </tr>\n",
              "    <tr>\n",
              "      <th>3</th>\n",
              "      <td>Adelie</td>\n",
              "      <td>Torgersen</td>\n",
              "      <td>43.9</td>\n",
              "      <td>17.15</td>\n",
              "      <td>200.9</td>\n",
              "      <td>4201.7</td>\n",
              "      <td>0</td>\n",
              "      <td>1</td>\n",
              "    </tr>\n",
              "    <tr>\n",
              "      <th>4</th>\n",
              "      <td>Adelie</td>\n",
              "      <td>Torgersen</td>\n",
              "      <td>36.7</td>\n",
              "      <td>19.30</td>\n",
              "      <td>193.0</td>\n",
              "      <td>3450.0</td>\n",
              "      <td>1</td>\n",
              "      <td>0</td>\n",
              "    </tr>\n",
              "    <tr>\n",
              "      <th>...</th>\n",
              "      <td>...</td>\n",
              "      <td>...</td>\n",
              "      <td>...</td>\n",
              "      <td>...</td>\n",
              "      <td>...</td>\n",
              "      <td>...</td>\n",
              "      <td>...</td>\n",
              "      <td>...</td>\n",
              "    </tr>\n",
              "    <tr>\n",
              "      <th>339</th>\n",
              "      <td>Chinstrap</td>\n",
              "      <td>Dream</td>\n",
              "      <td>55.8</td>\n",
              "      <td>19.80</td>\n",
              "      <td>207.0</td>\n",
              "      <td>4000.0</td>\n",
              "      <td>0</td>\n",
              "      <td>1</td>\n",
              "    </tr>\n",
              "    <tr>\n",
              "      <th>340</th>\n",
              "      <td>Chinstrap</td>\n",
              "      <td>Dream</td>\n",
              "      <td>43.5</td>\n",
              "      <td>18.10</td>\n",
              "      <td>202.0</td>\n",
              "      <td>3400.0</td>\n",
              "      <td>1</td>\n",
              "      <td>0</td>\n",
              "    </tr>\n",
              "    <tr>\n",
              "      <th>341</th>\n",
              "      <td>Chinstrap</td>\n",
              "      <td>Dream</td>\n",
              "      <td>49.6</td>\n",
              "      <td>18.20</td>\n",
              "      <td>193.0</td>\n",
              "      <td>3775.0</td>\n",
              "      <td>0</td>\n",
              "      <td>1</td>\n",
              "    </tr>\n",
              "    <tr>\n",
              "      <th>342</th>\n",
              "      <td>Chinstrap</td>\n",
              "      <td>Dream</td>\n",
              "      <td>50.8</td>\n",
              "      <td>19.00</td>\n",
              "      <td>210.0</td>\n",
              "      <td>4100.0</td>\n",
              "      <td>0</td>\n",
              "      <td>1</td>\n",
              "    </tr>\n",
              "    <tr>\n",
              "      <th>343</th>\n",
              "      <td>Chinstrap</td>\n",
              "      <td>Dream</td>\n",
              "      <td>50.2</td>\n",
              "      <td>18.70</td>\n",
              "      <td>198.0</td>\n",
              "      <td>3775.0</td>\n",
              "      <td>1</td>\n",
              "      <td>0</td>\n",
              "    </tr>\n",
              "  </tbody>\n",
              "</table>\n",
              "<p>344 rows × 8 columns</p>\n",
              "</div>"
            ],
            "text/plain": [
              "       especie       isla  largo_pico  ...  masa_corporal  sexo_female  sexo_male\n",
              "0       Adelie  Torgersen        39.1  ...         3750.0            0          1\n",
              "1       Adelie  Torgersen        39.5  ...         3800.0            1          0\n",
              "2       Adelie  Torgersen        40.3  ...         3250.0            1          0\n",
              "3       Adelie  Torgersen        43.9  ...         4201.7            0          1\n",
              "4       Adelie  Torgersen        36.7  ...         3450.0            1          0\n",
              "..         ...        ...         ...  ...            ...          ...        ...\n",
              "339  Chinstrap      Dream        55.8  ...         4000.0            0          1\n",
              "340  Chinstrap      Dream        43.5  ...         3400.0            1          0\n",
              "341  Chinstrap      Dream        49.6  ...         3775.0            0          1\n",
              "342  Chinstrap      Dream        50.8  ...         4100.0            0          1\n",
              "343  Chinstrap      Dream        50.2  ...         3775.0            1          0\n",
              "\n",
              "[344 rows x 8 columns]"
            ]
          },
          "metadata": {
            "tags": []
          },
          "execution_count": 51
        }
      ]
    },
    {
      "cell_type": "code",
      "metadata": {
        "id": "K-SRJniI19uf",
        "colab": {
          "base_uri": "https://localhost:8080/"
        },
        "outputId": "73981679-c656-4d2b-f164-5ba31435c76a"
      },
      "source": [
        "datos.especie.unique()"
      ],
      "execution_count": null,
      "outputs": [
        {
          "output_type": "execute_result",
          "data": {
            "text/plain": [
              "array(['Adelie', 'Gentoo', 'Chinstrap'], dtype=object)"
            ]
          },
          "metadata": {
            "tags": []
          },
          "execution_count": 52
        }
      ]
    },
    {
      "cell_type": "code",
      "metadata": {
        "id": "DJhN7cnEcjAg",
        "colab": {
          "base_uri": "https://localhost:8080/"
        },
        "outputId": "bb578e36-c8e1-415c-90e9-9fc67312f44c"
      },
      "source": [
        "datos=pd.get_dummies(datos, columns=['especie'])\n",
        "datos"
      ],
      "execution_count": null,
      "outputs": [
        {
          "output_type": "execute_result",
          "data": {
            "text/html": [
              "<div>\n",
              "<style scoped>\n",
              "    .dataframe tbody tr th:only-of-type {\n",
              "        vertical-align: middle;\n",
              "    }\n",
              "\n",
              "    .dataframe tbody tr th {\n",
              "        vertical-align: top;\n",
              "    }\n",
              "\n",
              "    .dataframe thead th {\n",
              "        text-align: right;\n",
              "    }\n",
              "</style>\n",
              "<table border=\"1\" class=\"dataframe\">\n",
              "  <thead>\n",
              "    <tr style=\"text-align: right;\">\n",
              "      <th></th>\n",
              "      <th>isla</th>\n",
              "      <th>largo_pico</th>\n",
              "      <th>ancho_pico</th>\n",
              "      <th>largo_aleta</th>\n",
              "      <th>masa_corporal</th>\n",
              "      <th>sexo_female</th>\n",
              "      <th>sexo_male</th>\n",
              "      <th>especie_Adelie</th>\n",
              "      <th>especie_Chinstrap</th>\n",
              "      <th>especie_Gentoo</th>\n",
              "    </tr>\n",
              "  </thead>\n",
              "  <tbody>\n",
              "    <tr>\n",
              "      <th>0</th>\n",
              "      <td>Torgersen</td>\n",
              "      <td>39.1</td>\n",
              "      <td>18.70</td>\n",
              "      <td>181.0</td>\n",
              "      <td>3750.0</td>\n",
              "      <td>0</td>\n",
              "      <td>1</td>\n",
              "      <td>1</td>\n",
              "      <td>0</td>\n",
              "      <td>0</td>\n",
              "    </tr>\n",
              "    <tr>\n",
              "      <th>1</th>\n",
              "      <td>Torgersen</td>\n",
              "      <td>39.5</td>\n",
              "      <td>17.40</td>\n",
              "      <td>186.0</td>\n",
              "      <td>3800.0</td>\n",
              "      <td>1</td>\n",
              "      <td>0</td>\n",
              "      <td>1</td>\n",
              "      <td>0</td>\n",
              "      <td>0</td>\n",
              "    </tr>\n",
              "    <tr>\n",
              "      <th>2</th>\n",
              "      <td>Torgersen</td>\n",
              "      <td>40.3</td>\n",
              "      <td>18.00</td>\n",
              "      <td>195.0</td>\n",
              "      <td>3250.0</td>\n",
              "      <td>1</td>\n",
              "      <td>0</td>\n",
              "      <td>1</td>\n",
              "      <td>0</td>\n",
              "      <td>0</td>\n",
              "    </tr>\n",
              "    <tr>\n",
              "      <th>3</th>\n",
              "      <td>Torgersen</td>\n",
              "      <td>43.9</td>\n",
              "      <td>17.15</td>\n",
              "      <td>200.9</td>\n",
              "      <td>4201.7</td>\n",
              "      <td>0</td>\n",
              "      <td>1</td>\n",
              "      <td>1</td>\n",
              "      <td>0</td>\n",
              "      <td>0</td>\n",
              "    </tr>\n",
              "    <tr>\n",
              "      <th>4</th>\n",
              "      <td>Torgersen</td>\n",
              "      <td>36.7</td>\n",
              "      <td>19.30</td>\n",
              "      <td>193.0</td>\n",
              "      <td>3450.0</td>\n",
              "      <td>1</td>\n",
              "      <td>0</td>\n",
              "      <td>1</td>\n",
              "      <td>0</td>\n",
              "      <td>0</td>\n",
              "    </tr>\n",
              "    <tr>\n",
              "      <th>...</th>\n",
              "      <td>...</td>\n",
              "      <td>...</td>\n",
              "      <td>...</td>\n",
              "      <td>...</td>\n",
              "      <td>...</td>\n",
              "      <td>...</td>\n",
              "      <td>...</td>\n",
              "      <td>...</td>\n",
              "      <td>...</td>\n",
              "      <td>...</td>\n",
              "    </tr>\n",
              "    <tr>\n",
              "      <th>339</th>\n",
              "      <td>Dream</td>\n",
              "      <td>55.8</td>\n",
              "      <td>19.80</td>\n",
              "      <td>207.0</td>\n",
              "      <td>4000.0</td>\n",
              "      <td>0</td>\n",
              "      <td>1</td>\n",
              "      <td>0</td>\n",
              "      <td>1</td>\n",
              "      <td>0</td>\n",
              "    </tr>\n",
              "    <tr>\n",
              "      <th>340</th>\n",
              "      <td>Dream</td>\n",
              "      <td>43.5</td>\n",
              "      <td>18.10</td>\n",
              "      <td>202.0</td>\n",
              "      <td>3400.0</td>\n",
              "      <td>1</td>\n",
              "      <td>0</td>\n",
              "      <td>0</td>\n",
              "      <td>1</td>\n",
              "      <td>0</td>\n",
              "    </tr>\n",
              "    <tr>\n",
              "      <th>341</th>\n",
              "      <td>Dream</td>\n",
              "      <td>49.6</td>\n",
              "      <td>18.20</td>\n",
              "      <td>193.0</td>\n",
              "      <td>3775.0</td>\n",
              "      <td>0</td>\n",
              "      <td>1</td>\n",
              "      <td>0</td>\n",
              "      <td>1</td>\n",
              "      <td>0</td>\n",
              "    </tr>\n",
              "    <tr>\n",
              "      <th>342</th>\n",
              "      <td>Dream</td>\n",
              "      <td>50.8</td>\n",
              "      <td>19.00</td>\n",
              "      <td>210.0</td>\n",
              "      <td>4100.0</td>\n",
              "      <td>0</td>\n",
              "      <td>1</td>\n",
              "      <td>0</td>\n",
              "      <td>1</td>\n",
              "      <td>0</td>\n",
              "    </tr>\n",
              "    <tr>\n",
              "      <th>343</th>\n",
              "      <td>Dream</td>\n",
              "      <td>50.2</td>\n",
              "      <td>18.70</td>\n",
              "      <td>198.0</td>\n",
              "      <td>3775.0</td>\n",
              "      <td>1</td>\n",
              "      <td>0</td>\n",
              "      <td>0</td>\n",
              "      <td>1</td>\n",
              "      <td>0</td>\n",
              "    </tr>\n",
              "  </tbody>\n",
              "</table>\n",
              "<p>344 rows × 10 columns</p>\n",
              "</div>"
            ],
            "text/plain": [
              "          isla  largo_pico  ...  especie_Chinstrap  especie_Gentoo\n",
              "0    Torgersen        39.1  ...                  0               0\n",
              "1    Torgersen        39.5  ...                  0               0\n",
              "2    Torgersen        40.3  ...                  0               0\n",
              "3    Torgersen        43.9  ...                  0               0\n",
              "4    Torgersen        36.7  ...                  0               0\n",
              "..         ...         ...  ...                ...             ...\n",
              "339      Dream        55.8  ...                  1               0\n",
              "340      Dream        43.5  ...                  1               0\n",
              "341      Dream        49.6  ...                  1               0\n",
              "342      Dream        50.8  ...                  1               0\n",
              "343      Dream        50.2  ...                  1               0\n",
              "\n",
              "[344 rows x 10 columns]"
            ]
          },
          "metadata": {
            "tags": []
          },
          "execution_count": 53
        }
      ]
    },
    {
      "cell_type": "markdown",
      "metadata": {
        "id": "1fxLlLLX7Gfl"
      },
      "source": [
        "- Segundo metodo para transformar\n",
        "\n",
        "![Captura.PNG](data:image/png;base64,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)\n"
      ]
    },
    {
      "cell_type": "code",
      "metadata": {
        "id": "Xuhb7Dd18Vw5",
        "colab": {
          "base_uri": "https://localhost:8080/"
        },
        "outputId": "5ce1063a-82ae-4972-81ac-cd9c0cf6bd1f"
      },
      "source": [
        "datos.isla.unique()"
      ],
      "execution_count": null,
      "outputs": [
        {
          "output_type": "execute_result",
          "data": {
            "text/plain": [
              "array(['Torgersen', 'Biscoe', 'Dream'], dtype=object)"
            ]
          },
          "metadata": {
            "tags": []
          },
          "execution_count": 54
        }
      ]
    },
    {
      "cell_type": "code",
      "metadata": {
        "id": "r7qml_Ew7FYh"
      },
      "source": [
        "mapear = {'Torgersen':0,\n",
        "          'Biscoe': 1,\n",
        "          'Dream': 2}"
      ],
      "execution_count": null,
      "outputs": []
    },
    {
      "cell_type": "code",
      "metadata": {
        "id": "-oy0oWyb4Wb6",
        "colab": {
          "base_uri": "https://localhost:8080/"
        },
        "outputId": "a6386ee0-bb70-4802-dbc9-5ee967933188"
      },
      "source": [
        "mapear"
      ],
      "execution_count": null,
      "outputs": [
        {
          "output_type": "execute_result",
          "data": {
            "text/plain": [
              "{'Biscoe': 1, 'Dream': 2, 'Torgersen': 0}"
            ]
          },
          "metadata": {
            "tags": []
          },
          "execution_count": 56
        }
      ]
    },
    {
      "cell_type": "code",
      "metadata": {
        "id": "iVaL-d6MCbCW"
      },
      "source": [
        "datos['isla']=datos['isla'].replace(mapear)"
      ],
      "execution_count": null,
      "outputs": []
    },
    {
      "cell_type": "code",
      "metadata": {
        "id": "DR8R63x395NF",
        "colab": {
          "base_uri": "https://localhost:8080/"
        },
        "outputId": "fce11de8-a606-4d33-9f03-ae5029e47fa0"
      },
      "source": [
        "datos.head()"
      ],
      "execution_count": null,
      "outputs": [
        {
          "output_type": "execute_result",
          "data": {
            "text/html": [
              "<div>\n",
              "<style scoped>\n",
              "    .dataframe tbody tr th:only-of-type {\n",
              "        vertical-align: middle;\n",
              "    }\n",
              "\n",
              "    .dataframe tbody tr th {\n",
              "        vertical-align: top;\n",
              "    }\n",
              "\n",
              "    .dataframe thead th {\n",
              "        text-align: right;\n",
              "    }\n",
              "</style>\n",
              "<table border=\"1\" class=\"dataframe\">\n",
              "  <thead>\n",
              "    <tr style=\"text-align: right;\">\n",
              "      <th></th>\n",
              "      <th>isla</th>\n",
              "      <th>largo_pico</th>\n",
              "      <th>ancho_pico</th>\n",
              "      <th>largo_aleta</th>\n",
              "      <th>masa_corporal</th>\n",
              "      <th>sexo_female</th>\n",
              "      <th>sexo_male</th>\n",
              "      <th>especie_Adelie</th>\n",
              "      <th>especie_Chinstrap</th>\n",
              "      <th>especie_Gentoo</th>\n",
              "    </tr>\n",
              "  </thead>\n",
              "  <tbody>\n",
              "    <tr>\n",
              "      <th>0</th>\n",
              "      <td>0</td>\n",
              "      <td>39.1</td>\n",
              "      <td>18.70</td>\n",
              "      <td>181.0</td>\n",
              "      <td>3750.0</td>\n",
              "      <td>0</td>\n",
              "      <td>1</td>\n",
              "      <td>1</td>\n",
              "      <td>0</td>\n",
              "      <td>0</td>\n",
              "    </tr>\n",
              "    <tr>\n",
              "      <th>1</th>\n",
              "      <td>0</td>\n",
              "      <td>39.5</td>\n",
              "      <td>17.40</td>\n",
              "      <td>186.0</td>\n",
              "      <td>3800.0</td>\n",
              "      <td>1</td>\n",
              "      <td>0</td>\n",
              "      <td>1</td>\n",
              "      <td>0</td>\n",
              "      <td>0</td>\n",
              "    </tr>\n",
              "    <tr>\n",
              "      <th>2</th>\n",
              "      <td>0</td>\n",
              "      <td>40.3</td>\n",
              "      <td>18.00</td>\n",
              "      <td>195.0</td>\n",
              "      <td>3250.0</td>\n",
              "      <td>1</td>\n",
              "      <td>0</td>\n",
              "      <td>1</td>\n",
              "      <td>0</td>\n",
              "      <td>0</td>\n",
              "    </tr>\n",
              "    <tr>\n",
              "      <th>3</th>\n",
              "      <td>0</td>\n",
              "      <td>43.9</td>\n",
              "      <td>17.15</td>\n",
              "      <td>200.9</td>\n",
              "      <td>4201.7</td>\n",
              "      <td>0</td>\n",
              "      <td>1</td>\n",
              "      <td>1</td>\n",
              "      <td>0</td>\n",
              "      <td>0</td>\n",
              "    </tr>\n",
              "    <tr>\n",
              "      <th>4</th>\n",
              "      <td>0</td>\n",
              "      <td>36.7</td>\n",
              "      <td>19.30</td>\n",
              "      <td>193.0</td>\n",
              "      <td>3450.0</td>\n",
              "      <td>1</td>\n",
              "      <td>0</td>\n",
              "      <td>1</td>\n",
              "      <td>0</td>\n",
              "      <td>0</td>\n",
              "    </tr>\n",
              "  </tbody>\n",
              "</table>\n",
              "</div>"
            ],
            "text/plain": [
              "   isla  largo_pico  ...  especie_Chinstrap  especie_Gentoo\n",
              "0     0        39.1  ...                  0               0\n",
              "1     0        39.5  ...                  0               0\n",
              "2     0        40.3  ...                  0               0\n",
              "3     0        43.9  ...                  0               0\n",
              "4     0        36.7  ...                  0               0\n",
              "\n",
              "[5 rows x 10 columns]"
            ]
          },
          "metadata": {
            "tags": []
          },
          "execution_count": 58
        }
      ]
    },
    {
      "cell_type": "markdown",
      "metadata": {
        "id": "_T1yX8Hy41A0"
      },
      "source": [
        "Escalar los datos"
      ]
    },
    {
      "cell_type": "markdown",
      "metadata": {
        "id": "0nvtWXeEUB7_"
      },
      "source": [
        "## 4. Dividir en set de entrenamiento y set de prueba"
      ]
    },
    {
      "cell_type": "code",
      "metadata": {
        "colab": {
          "base_uri": "https://localhost:8080/",
          "height": 224
        },
        "id": "7NLISAGhPnKu",
        "outputId": "23567963-64e8-4373-cd2e-9a21db624aac"
      },
      "source": [
        "datos.head()"
      ],
      "execution_count": null,
      "outputs": [
        {
          "output_type": "execute_result",
          "data": {
            "text/html": [
              "<div>\n",
              "<style scoped>\n",
              "    .dataframe tbody tr th:only-of-type {\n",
              "        vertical-align: middle;\n",
              "    }\n",
              "\n",
              "    .dataframe tbody tr th {\n",
              "        vertical-align: top;\n",
              "    }\n",
              "\n",
              "    .dataframe thead th {\n",
              "        text-align: right;\n",
              "    }\n",
              "</style>\n",
              "<table border=\"1\" class=\"dataframe\">\n",
              "  <thead>\n",
              "    <tr style=\"text-align: right;\">\n",
              "      <th></th>\n",
              "      <th>isla</th>\n",
              "      <th>largo_pico</th>\n",
              "      <th>ancho_pico</th>\n",
              "      <th>largo_aleta</th>\n",
              "      <th>masa_corporal</th>\n",
              "      <th>sexo_female</th>\n",
              "      <th>sexo_male</th>\n",
              "      <th>especie_Adelie</th>\n",
              "      <th>especie_Chinstrap</th>\n",
              "      <th>especie_Gentoo</th>\n",
              "    </tr>\n",
              "  </thead>\n",
              "  <tbody>\n",
              "    <tr>\n",
              "      <th>0</th>\n",
              "      <td>0</td>\n",
              "      <td>39.1</td>\n",
              "      <td>18.70</td>\n",
              "      <td>181.0</td>\n",
              "      <td>3750.0</td>\n",
              "      <td>0</td>\n",
              "      <td>1</td>\n",
              "      <td>1</td>\n",
              "      <td>0</td>\n",
              "      <td>0</td>\n",
              "    </tr>\n",
              "    <tr>\n",
              "      <th>1</th>\n",
              "      <td>0</td>\n",
              "      <td>39.5</td>\n",
              "      <td>17.40</td>\n",
              "      <td>186.0</td>\n",
              "      <td>3800.0</td>\n",
              "      <td>1</td>\n",
              "      <td>0</td>\n",
              "      <td>1</td>\n",
              "      <td>0</td>\n",
              "      <td>0</td>\n",
              "    </tr>\n",
              "    <tr>\n",
              "      <th>2</th>\n",
              "      <td>0</td>\n",
              "      <td>40.3</td>\n",
              "      <td>18.00</td>\n",
              "      <td>195.0</td>\n",
              "      <td>3250.0</td>\n",
              "      <td>1</td>\n",
              "      <td>0</td>\n",
              "      <td>1</td>\n",
              "      <td>0</td>\n",
              "      <td>0</td>\n",
              "    </tr>\n",
              "    <tr>\n",
              "      <th>3</th>\n",
              "      <td>0</td>\n",
              "      <td>43.9</td>\n",
              "      <td>17.15</td>\n",
              "      <td>200.9</td>\n",
              "      <td>4201.7</td>\n",
              "      <td>0</td>\n",
              "      <td>1</td>\n",
              "      <td>1</td>\n",
              "      <td>0</td>\n",
              "      <td>0</td>\n",
              "    </tr>\n",
              "    <tr>\n",
              "      <th>4</th>\n",
              "      <td>0</td>\n",
              "      <td>36.7</td>\n",
              "      <td>19.30</td>\n",
              "      <td>193.0</td>\n",
              "      <td>3450.0</td>\n",
              "      <td>1</td>\n",
              "      <td>0</td>\n",
              "      <td>1</td>\n",
              "      <td>0</td>\n",
              "      <td>0</td>\n",
              "    </tr>\n",
              "  </tbody>\n",
              "</table>\n",
              "</div>"
            ],
            "text/plain": [
              "   isla  largo_pico  ...  especie_Chinstrap  especie_Gentoo\n",
              "0     0        39.1  ...                  0               0\n",
              "1     0        39.5  ...                  0               0\n",
              "2     0        40.3  ...                  0               0\n",
              "3     0        43.9  ...                  0               0\n",
              "4     0        36.7  ...                  0               0\n",
              "\n",
              "[5 rows x 10 columns]"
            ]
          },
          "metadata": {
            "tags": []
          },
          "execution_count": 59
        }
      ]
    },
    {
      "cell_type": "markdown",
      "metadata": {
        "id": "V7pcLMScPW5r"
      },
      "source": [
        "**Separar los atributos del target**"
      ]
    },
    {
      "cell_type": "code",
      "metadata": {
        "colab": {
          "base_uri": "https://localhost:8080/",
          "height": 419
        },
        "id": "6WEPnaLyP2j1",
        "outputId": "1d7b5384-2cff-49a5-a09f-64ea3680c9ec"
      },
      "source": [
        "datos.iloc[:, 7:]"
      ],
      "execution_count": null,
      "outputs": [
        {
          "output_type": "execute_result",
          "data": {
            "text/html": [
              "<div>\n",
              "<style scoped>\n",
              "    .dataframe tbody tr th:only-of-type {\n",
              "        vertical-align: middle;\n",
              "    }\n",
              "\n",
              "    .dataframe tbody tr th {\n",
              "        vertical-align: top;\n",
              "    }\n",
              "\n",
              "    .dataframe thead th {\n",
              "        text-align: right;\n",
              "    }\n",
              "</style>\n",
              "<table border=\"1\" class=\"dataframe\">\n",
              "  <thead>\n",
              "    <tr style=\"text-align: right;\">\n",
              "      <th></th>\n",
              "      <th>especie_Adelie</th>\n",
              "      <th>especie_Chinstrap</th>\n",
              "      <th>especie_Gentoo</th>\n",
              "    </tr>\n",
              "  </thead>\n",
              "  <tbody>\n",
              "    <tr>\n",
              "      <th>0</th>\n",
              "      <td>1</td>\n",
              "      <td>0</td>\n",
              "      <td>0</td>\n",
              "    </tr>\n",
              "    <tr>\n",
              "      <th>1</th>\n",
              "      <td>1</td>\n",
              "      <td>0</td>\n",
              "      <td>0</td>\n",
              "    </tr>\n",
              "    <tr>\n",
              "      <th>2</th>\n",
              "      <td>1</td>\n",
              "      <td>0</td>\n",
              "      <td>0</td>\n",
              "    </tr>\n",
              "    <tr>\n",
              "      <th>3</th>\n",
              "      <td>1</td>\n",
              "      <td>0</td>\n",
              "      <td>0</td>\n",
              "    </tr>\n",
              "    <tr>\n",
              "      <th>4</th>\n",
              "      <td>1</td>\n",
              "      <td>0</td>\n",
              "      <td>0</td>\n",
              "    </tr>\n",
              "    <tr>\n",
              "      <th>...</th>\n",
              "      <td>...</td>\n",
              "      <td>...</td>\n",
              "      <td>...</td>\n",
              "    </tr>\n",
              "    <tr>\n",
              "      <th>339</th>\n",
              "      <td>0</td>\n",
              "      <td>1</td>\n",
              "      <td>0</td>\n",
              "    </tr>\n",
              "    <tr>\n",
              "      <th>340</th>\n",
              "      <td>0</td>\n",
              "      <td>1</td>\n",
              "      <td>0</td>\n",
              "    </tr>\n",
              "    <tr>\n",
              "      <th>341</th>\n",
              "      <td>0</td>\n",
              "      <td>1</td>\n",
              "      <td>0</td>\n",
              "    </tr>\n",
              "    <tr>\n",
              "      <th>342</th>\n",
              "      <td>0</td>\n",
              "      <td>1</td>\n",
              "      <td>0</td>\n",
              "    </tr>\n",
              "    <tr>\n",
              "      <th>343</th>\n",
              "      <td>0</td>\n",
              "      <td>1</td>\n",
              "      <td>0</td>\n",
              "    </tr>\n",
              "  </tbody>\n",
              "</table>\n",
              "<p>344 rows × 3 columns</p>\n",
              "</div>"
            ],
            "text/plain": [
              "     especie_Adelie  especie_Chinstrap  especie_Gentoo\n",
              "0                 1                  0               0\n",
              "1                 1                  0               0\n",
              "2                 1                  0               0\n",
              "3                 1                  0               0\n",
              "4                 1                  0               0\n",
              "..              ...                ...             ...\n",
              "339               0                  1               0\n",
              "340               0                  1               0\n",
              "341               0                  1               0\n",
              "342               0                  1               0\n",
              "343               0                  1               0\n",
              "\n",
              "[344 rows x 3 columns]"
            ]
          },
          "metadata": {
            "tags": []
          },
          "execution_count": 60
        }
      ]
    },
    {
      "cell_type": "code",
      "metadata": {
        "colab": {
          "base_uri": "https://localhost:8080/",
          "height": 419
        },
        "id": "fScBOuh2P-XN",
        "outputId": "b52e9473-ee20-4fad-c632-37ee50c99eeb"
      },
      "source": [
        "datos.iloc[:, :7]"
      ],
      "execution_count": null,
      "outputs": [
        {
          "output_type": "execute_result",
          "data": {
            "text/html": [
              "<div>\n",
              "<style scoped>\n",
              "    .dataframe tbody tr th:only-of-type {\n",
              "        vertical-align: middle;\n",
              "    }\n",
              "\n",
              "    .dataframe tbody tr th {\n",
              "        vertical-align: top;\n",
              "    }\n",
              "\n",
              "    .dataframe thead th {\n",
              "        text-align: right;\n",
              "    }\n",
              "</style>\n",
              "<table border=\"1\" class=\"dataframe\">\n",
              "  <thead>\n",
              "    <tr style=\"text-align: right;\">\n",
              "      <th></th>\n",
              "      <th>isla</th>\n",
              "      <th>largo_pico</th>\n",
              "      <th>ancho_pico</th>\n",
              "      <th>largo_aleta</th>\n",
              "      <th>masa_corporal</th>\n",
              "      <th>sexo_female</th>\n",
              "      <th>sexo_male</th>\n",
              "    </tr>\n",
              "  </thead>\n",
              "  <tbody>\n",
              "    <tr>\n",
              "      <th>0</th>\n",
              "      <td>0</td>\n",
              "      <td>39.1</td>\n",
              "      <td>18.70</td>\n",
              "      <td>181.0</td>\n",
              "      <td>3750.0</td>\n",
              "      <td>0</td>\n",
              "      <td>1</td>\n",
              "    </tr>\n",
              "    <tr>\n",
              "      <th>1</th>\n",
              "      <td>0</td>\n",
              "      <td>39.5</td>\n",
              "      <td>17.40</td>\n",
              "      <td>186.0</td>\n",
              "      <td>3800.0</td>\n",
              "      <td>1</td>\n",
              "      <td>0</td>\n",
              "    </tr>\n",
              "    <tr>\n",
              "      <th>2</th>\n",
              "      <td>0</td>\n",
              "      <td>40.3</td>\n",
              "      <td>18.00</td>\n",
              "      <td>195.0</td>\n",
              "      <td>3250.0</td>\n",
              "      <td>1</td>\n",
              "      <td>0</td>\n",
              "    </tr>\n",
              "    <tr>\n",
              "      <th>3</th>\n",
              "      <td>0</td>\n",
              "      <td>43.9</td>\n",
              "      <td>17.15</td>\n",
              "      <td>200.9</td>\n",
              "      <td>4201.7</td>\n",
              "      <td>0</td>\n",
              "      <td>1</td>\n",
              "    </tr>\n",
              "    <tr>\n",
              "      <th>4</th>\n",
              "      <td>0</td>\n",
              "      <td>36.7</td>\n",
              "      <td>19.30</td>\n",
              "      <td>193.0</td>\n",
              "      <td>3450.0</td>\n",
              "      <td>1</td>\n",
              "      <td>0</td>\n",
              "    </tr>\n",
              "    <tr>\n",
              "      <th>...</th>\n",
              "      <td>...</td>\n",
              "      <td>...</td>\n",
              "      <td>...</td>\n",
              "      <td>...</td>\n",
              "      <td>...</td>\n",
              "      <td>...</td>\n",
              "      <td>...</td>\n",
              "    </tr>\n",
              "    <tr>\n",
              "      <th>339</th>\n",
              "      <td>2</td>\n",
              "      <td>55.8</td>\n",
              "      <td>19.80</td>\n",
              "      <td>207.0</td>\n",
              "      <td>4000.0</td>\n",
              "      <td>0</td>\n",
              "      <td>1</td>\n",
              "    </tr>\n",
              "    <tr>\n",
              "      <th>340</th>\n",
              "      <td>2</td>\n",
              "      <td>43.5</td>\n",
              "      <td>18.10</td>\n",
              "      <td>202.0</td>\n",
              "      <td>3400.0</td>\n",
              "      <td>1</td>\n",
              "      <td>0</td>\n",
              "    </tr>\n",
              "    <tr>\n",
              "      <th>341</th>\n",
              "      <td>2</td>\n",
              "      <td>49.6</td>\n",
              "      <td>18.20</td>\n",
              "      <td>193.0</td>\n",
              "      <td>3775.0</td>\n",
              "      <td>0</td>\n",
              "      <td>1</td>\n",
              "    </tr>\n",
              "    <tr>\n",
              "      <th>342</th>\n",
              "      <td>2</td>\n",
              "      <td>50.8</td>\n",
              "      <td>19.00</td>\n",
              "      <td>210.0</td>\n",
              "      <td>4100.0</td>\n",
              "      <td>0</td>\n",
              "      <td>1</td>\n",
              "    </tr>\n",
              "    <tr>\n",
              "      <th>343</th>\n",
              "      <td>2</td>\n",
              "      <td>50.2</td>\n",
              "      <td>18.70</td>\n",
              "      <td>198.0</td>\n",
              "      <td>3775.0</td>\n",
              "      <td>1</td>\n",
              "      <td>0</td>\n",
              "    </tr>\n",
              "  </tbody>\n",
              "</table>\n",
              "<p>344 rows × 7 columns</p>\n",
              "</div>"
            ],
            "text/plain": [
              "     isla  largo_pico  ancho_pico  ...  masa_corporal  sexo_female  sexo_male\n",
              "0       0        39.1       18.70  ...         3750.0            0          1\n",
              "1       0        39.5       17.40  ...         3800.0            1          0\n",
              "2       0        40.3       18.00  ...         3250.0            1          0\n",
              "3       0        43.9       17.15  ...         4201.7            0          1\n",
              "4       0        36.7       19.30  ...         3450.0            1          0\n",
              "..    ...         ...         ...  ...            ...          ...        ...\n",
              "339     2        55.8       19.80  ...         4000.0            0          1\n",
              "340     2        43.5       18.10  ...         3400.0            1          0\n",
              "341     2        49.6       18.20  ...         3775.0            0          1\n",
              "342     2        50.8       19.00  ...         4100.0            0          1\n",
              "343     2        50.2       18.70  ...         3775.0            1          0\n",
              "\n",
              "[344 rows x 7 columns]"
            ]
          },
          "metadata": {
            "tags": []
          },
          "execution_count": 61
        }
      ]
    },
    {
      "cell_type": "code",
      "metadata": {
        "id": "47o6vaU4UJ46"
      },
      "source": [
        "y=datos.iloc[:, 7:]\n",
        "X=datos.iloc[:, 0:7]"
      ],
      "execution_count": null,
      "outputs": []
    },
    {
      "cell_type": "markdown",
      "metadata": {
        "id": "LmWpfCmTQKoL"
      },
      "source": [
        "**Dividir en set de entrenamiento y prueba**\n",
        "\n",
        "Documentación:\n",
        "\n",
        "https://scikit-learn.org/stable/modules/generated/sklearn.model_selection.train_test_split.html\n",
        "\n",
        "Scikit-Learn (sklearn) es una  librería gratuita para Python. Cuenta con algoritmos de para machine learning y también para preprocesamiento de datos. Es muy utilizada en inteligencia artificial."
      ]
    },
    {
      "cell_type": "code",
      "metadata": {
        "id": "d25nK4UWQOhw"
      },
      "source": [
        "from sklearn.model_selection import train_test_split"
      ],
      "execution_count": null,
      "outputs": []
    },
    {
      "cell_type": "code",
      "metadata": {
        "id": "NYgzOGA3UJ2Y"
      },
      "source": [
        "X_train, X_test, y_train, y_test = train_test_split(X, y, test_size = 0.15, random_state = 0)"
      ],
      "execution_count": null,
      "outputs": []
    },
    {
      "cell_type": "markdown",
      "metadata": {
        "id": "2AdFOAE8SXAo"
      },
      "source": [
        "**Escalar los datos**"
      ]
    },
    {
      "cell_type": "markdown",
      "metadata": {
        "id": "c0h8jE_pD4EH"
      },
      "source": [
        "El escalado va a transformar los valores de los atributos de forma que estén confinados en un rango [0, 1]. Para darle a todas las columnas la misma importancia y evitar errores.\n",
        "\n",
        "Es importante que el escalador deberá realizarse *fit_transform* solo con los datos de entrenamiento. Y que deberá aplicarse solo el *transform* para los datos de prueba."
      ]
    },
    {
      "cell_type": "code",
      "metadata": {
        "id": "XA_u1utxRQfP"
      },
      "source": [
        "from sklearn.preprocessing import MinMaxScaler\n",
        "scaler = MinMaxScaler()"
      ],
      "execution_count": null,
      "outputs": []
    },
    {
      "cell_type": "code",
      "metadata": {
        "id": "-VtfU8yBSbVJ"
      },
      "source": [
        "X_train=pd.DataFrame(scaler.fit_transform(X_train), columns=X_train.columns)"
      ],
      "execution_count": null,
      "outputs": []
    },
    {
      "cell_type": "code",
      "metadata": {
        "id": "B2Kp6M0LSgWs"
      },
      "source": [
        "X_test=pd.DataFrame(scaler.transform(X_test), columns=X_test.columns)"
      ],
      "execution_count": null,
      "outputs": []
    },
    {
      "cell_type": "markdown",
      "metadata": {
        "id": "6s_ezCOYUKeo"
      },
      "source": [
        "## 5. Crear red neuronal"
      ]
    },
    {
      "cell_type": "markdown",
      "metadata": {
        "id": "rEYYARoNDR_C"
      },
      "source": [
        "\n",
        "*Keras* es una libreria de redes neuronales artificiales de código abierto"
      ]
    },
    {
      "cell_type": "code",
      "metadata": {
        "id": "4Phz5r85UO_-"
      },
      "source": [
        "import keras\n",
        "from keras.models import Sequential\n",
        "from keras.layers import Dense"
      ],
      "execution_count": null,
      "outputs": []
    },
    {
      "cell_type": "markdown",
      "metadata": {
        "id": "pUw6TFCvFFuD"
      },
      "source": [
        "**Red neuronal 1**\n",
        "\n",
        "Creamos la red neural que se va a llamar modelo_1"
      ]
    },
    {
      "cell_type": "code",
      "metadata": {
        "id": "vRdXfQH9Ey9P"
      },
      "source": [
        "modelo_1 = Sequential()"
      ],
      "execution_count": null,
      "outputs": []
    },
    {
      "cell_type": "markdown",
      "metadata": {
        "id": "BakNVXQkFLRG"
      },
      "source": [
        "Creamos la capa primer capa.\n",
        "\n",
        "input_dim: son la cantidad de entradas\n",
        "activation: es la función de activación. Algunas ya vienen definidas y vamos a utilizar \"relu\""
      ]
    },
    {
      "cell_type": "code",
      "metadata": {
        "colab": {
          "base_uri": "https://localhost:8080/"
        },
        "id": "aYd4QA3ZFQ_b",
        "outputId": "f2858a23-964e-41a0-9a78-ca3896e9b6e8"
      },
      "source": [
        "X_train.shape"
      ],
      "execution_count": null,
      "outputs": [
        {
          "output_type": "execute_result",
          "data": {
            "text/plain": [
              "(292, 7)"
            ]
          },
          "metadata": {
            "tags": []
          },
          "execution_count": 70
        }
      ]
    },
    {
      "cell_type": "code",
      "metadata": {
        "id": "yuLdsc0zRdGk"
      },
      "source": [
        "modelo_1.add(Dense(2, input_dim=7, activation='relu'))"
      ],
      "execution_count": null,
      "outputs": []
    },
    {
      "cell_type": "markdown",
      "metadata": {
        "id": "GSpm4I1QFsId"
      },
      "source": [
        "Creamos las capas ocultas"
      ]
    },
    {
      "cell_type": "code",
      "metadata": {
        "id": "vt_p8KG9E3Fs"
      },
      "source": [
        "modelo_1.add(Dense(4, activation='relu'))"
      ],
      "execution_count": null,
      "outputs": []
    },
    {
      "cell_type": "markdown",
      "metadata": {
        "id": "gzA79QqEF0-y"
      },
      "source": [
        "Creamos la capa de salida.\n",
        "\n",
        "Aquí la función de activacion debe ser \"Softmax\""
      ]
    },
    {
      "cell_type": "code",
      "metadata": {
        "id": "yF8FiwqOE4DJ"
      },
      "source": [
        "modelo_1.add(Dense(3, activation='softmax'))"
      ],
      "execution_count": null,
      "outputs": []
    },
    {
      "cell_type": "markdown",
      "metadata": {
        "id": "f9PS2Ps7F4wV"
      },
      "source": [
        "Finalmente, debemos compilar nuestra red neuronal.  Al compilar el modelo se mandan llamar las librerias en el backend. En este caso el backend automáticamente selecciona la mejor forma de representar la red neuronal para entrenamiento y realizar predicciones en el hardware. \n",
        "\n",
        "Cuando se compila el modelo, se deben definir algunas propiedades:\n",
        " \n",
        "- Optimizador utilizado para buscar entre los pesos de la red.\n",
        "- Loss function, que es utilizada para evaluar los pesos.\n",
        "- Métricas: forma en que vamos a evaluar el modelo."
      ]
    },
    {
      "cell_type": "code",
      "metadata": {
        "id": "zJvZwv8nRgt7"
      },
      "source": [
        "modelo_1.compile(optimizer='adam',\n",
        "              loss='categorical_crossentropy',\n",
        "              metrics=['accuracy'])"
      ],
      "execution_count": null,
      "outputs": []
    },
    {
      "cell_type": "markdown",
      "metadata": {
        "id": "jNTCLY5rDkpr"
      },
      "source": [
        "Visualizar la estructura de la red neuronal"
      ]
    },
    {
      "cell_type": "code",
      "metadata": {
        "colab": {
          "base_uri": "https://localhost:8080/"
        },
        "id": "f4AHSji1Riwm",
        "outputId": "3d68a183-9ecb-43fe-e925-1fedf7a2e21f"
      },
      "source": [
        "!pip3 install keras-visualizer"
      ],
      "execution_count": null,
      "outputs": [
        {
          "output_type": "stream",
          "name": "stdout",
          "text": [
            "Collecting keras-visualizer\n",
            "  Downloading keras_visualizer-2.4-py3-none-any.whl (5.4 kB)\n",
            "Installing collected packages: keras-visualizer\n",
            "Successfully installed keras-visualizer-2.4\n"
          ]
        }
      ]
    },
    {
      "cell_type": "code",
      "metadata": {
        "id": "gwuF35uNRlvp"
      },
      "source": [
        "from keras_visualizer import visualizer \n",
        "visualizer(modelo_1, format='png',  filename='red_neuronal_1')"
      ],
      "execution_count": null,
      "outputs": []
    },
    {
      "cell_type": "markdown",
      "metadata": {
        "id": "Do51bpSrGEVd"
      },
      "source": [
        "\n",
        "\n",
        "**Red Neuronal 2**\n",
        "\n"
      ]
    },
    {
      "cell_type": "code",
      "metadata": {
        "id": "oVeCB-nBGDvb"
      },
      "source": [
        "modelo_2 = Sequential()\n",
        "modelo_2.add(Dense(2, input_dim=7, activation='relu'))\n",
        "modelo_2.add(Dense(4, activation='relu'))\n",
        "modelo_2.add(Dense(2, activation='relu'))\n",
        "modelo_2.add(Dense(4, activation='relu'))\n",
        "modelo_2.add(Dense(3, activation='softmax'))\n",
        "\n",
        "\n",
        "modelo_2.compile(optimizer='adam',\n",
        "              loss='categorical_crossentropy',\n",
        "              metrics=['accuracy'])\n",
        "\n",
        "visualizer(modelo_2, format='png',  filename='red_neuronal_2')"
      ],
      "execution_count": null,
      "outputs": []
    }
  ]
}